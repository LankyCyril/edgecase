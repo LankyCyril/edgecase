{
 "cells": [
  {
   "cell_type": "code",
   "execution_count": 1,
   "metadata": {},
   "outputs": [],
   "source": [
    "import pandas as pd\n",
    "import numpy as np\n",
    "import seaborn as sns\n",
    "import re\n",
    "from matplotlib.pyplot import subplots, style, rc\n",
    "from tqdm import tqdm\n",
    "from venn import venn, pseudovenn\n",
    "from collections import defaultdict\n",
    "from itertools import count, islice, chain\n",
    "from functools import lru_cache"
   ]
  },
  {
   "cell_type": "code",
   "execution_count": 2,
   "metadata": {},
   "outputs": [],
   "source": [
    "%matplotlib inline"
   ]
  },
  {
   "cell_type": "code",
   "execution_count": 3,
   "metadata": {},
   "outputs": [],
   "source": [
    "from edgecaselib.formats import load_index, load_kmerscan, EmptyKmerscanError\n",
    "from scipy.stats import entropy\n",
    "from os import path\n",
    "from pickle import load, dump\n",
    "from gzip import open as gzopen\n",
    "\n",
    "from scipy.stats import gaussian_kde\n",
    "from scipy.signal import argrelmin"
   ]
  },
  {
   "cell_type": "code",
   "execution_count": 4,
   "metadata": {},
   "outputs": [],
   "source": [
    "ECX = load_index(\"assets/hg38ext.fa.ecx\")"
   ]
  },
  {
   "cell_type": "code",
   "execution_count": 5,
   "metadata": {},
   "outputs": [],
   "source": [
    "SUBJECT_TO_TRIO = {\n",
    "    \"HG001\": \"NA12878\",\n",
    "    \"HG002\": \"AshkenazimTrio\", \"HG003\": \"AshkenazimTrio\", \"HG004\": \"AshkenazimTrio\",\n",
    "    \"HG005\": \"ChineseTrio\", \"HG006\": \"ChineseTrio\", \"HG007\": \"ChineseTrio\",\n",
    "}"
   ]
  },
  {
   "cell_type": "code",
   "execution_count": 6,
   "metadata": {},
   "outputs": [],
   "source": [
    "KMERSCANS_PKL = \"PacBio/kmerscans-for-entropy.pkl.gz\"\n",
    "\n",
    "if path.isfile(KMERSCANS_PKL):\n",
    "    with gzopen(KMERSCANS_PKL, mode=\"rb\") as pkl:\n",
    "        KMERSCANS = load(pkl)\n",
    "else:\n",
    "    KMERSCANS = {}\n",
    "    for subject, trio in SUBJECT_TO_TRIO.items():\n",
    "        try:\n",
    "            ksp = load_kmerscan(\n",
    "                f\"PacBio/{trio}/{subject}/kmerscanner-all-p_arm.dat.gz\",\n",
    "                gzipped=True, samfilters=[\"tract_anchor\", 3844, 0],\n",
    "                bin_size=10,\n",
    "            )\n",
    "        except EmptyKmerscanError:\n",
    "            ksp = {}\n",
    "        try:\n",
    "            ksq = load_kmerscan(\n",
    "                f\"PacBio/{trio}/{subject}/kmerscanner-all-q_arm.dat.gz\",\n",
    "                gzipped=True, samfilters=[\"is_q|tract_anchor\", 3844, 0],\n",
    "                bin_size=10,\n",
    "            )\n",
    "        except EmptyKmerscanError:\n",
    "            ksq = {}\n",
    "        KMERSCANS[subject] = (ksp, ksq)\n",
    "    with gzopen(KMERSCANS_PKL, mode=\"wb\") as pkl:\n",
    "        dump(KMERSCANS, pkl)"
   ]
  },
  {
   "cell_type": "code",
   "execution_count": 7,
   "metadata": {},
   "outputs": [],
   "source": [
    "def get_per_read_modes(bdf, chrom, prime, ecx, background=()):\n",
    "    anchors = ecx.loc[\n",
    "        (ecx[\"rname\"]==chrom) & (ecx[\"prime\"]==prime) & (ecx[\"flag\"]==16384),\n",
    "        \"pos\"\n",
    "    ]\n",
    "    assert len(anchors) == 1\n",
    "    anchor = anchors.iloc[0]\n",
    "    if prime == 3:\n",
    "        positions = [c for c in bdf.columns[9:] if c >= anchor]\n",
    "    elif prime == 5:\n",
    "        positions = [c for c in bdf.columns[9:] if c <= anchor]\n",
    "    else:\n",
    "        raise ValueError\n",
    "    bdf_slice = bdf[list(bdf.columns[:9]) + positions]\n",
    "    return (\n",
    "        bdf_slice[~bdf_slice[\"motif\"].isin(background)].groupby(\"name\")\n",
    "        .apply(lambda block: block.set_index(\"motif\").iloc[:,8:].idxmax(axis=0))\n",
    "        .dropna(how=\"all\", axis=1)\n",
    "    )"
   ]
  },
  {
   "cell_type": "code",
   "execution_count": 8,
   "metadata": {},
   "outputs": [],
   "source": [
    "def calculate_entropies(bdf, chrom, prime, ecx, background=()):\n",
    "    per_read_modes = get_per_read_modes(bdf, chrom, prime, ecx, background=background)\n",
    "    N = len(per_read_modes.melt().value.dropna().unique())\n",
    "    return pd.DataFrame({\n",
    "        \"entropy\": per_read_modes.apply(lambda c: entropy(c.value_counts())) / np.log(N),\n",
    "        \"coverage\": (~per_read_modes.isnull()).sum(axis=0),\n",
    "    })"
   ]
  },
  {
   "cell_type": "code",
   "execution_count": 9,
   "metadata": {},
   "outputs": [
    {
     "name": "stderr",
     "output_type": "stream",
     "text": [
      "HG001, p arm: 100%|██████████| 1/1 [00:00<00:00,  1.39chromosome/s]\n",
      "HG001, q arm: 100%|██████████| 5/5 [00:04<00:00,  1.24chromosome/s]\n",
      "HG002, p arm: 100%|██████████| 4/4 [00:02<00:00,  1.45chromosome/s]\n",
      "HG002, q arm: 100%|██████████| 12/12 [00:10<00:00,  1.10chromosome/s]\n",
      "HG003, p arm: 100%|██████████| 1/1 [00:00<00:00,  1.12chromosome/s]\n",
      "HG003, q arm: 100%|██████████| 10/10 [00:08<00:00,  1.25chromosome/s]\n",
      "HG004, p arm: 100%|██████████| 1/1 [00:00<00:00,  1.13chromosome/s]\n",
      "HG004, q arm: 100%|██████████| 6/6 [00:06<00:00,  1.01s/chromosome]\n",
      "HG005, p arm: 0chromosome [00:00, ?chromosome/s]\n",
      "HG005, q arm: 100%|██████████| 5/5 [00:03<00:00,  1.49chromosome/s]\n",
      "HG006, p arm: 100%|██████████| 2/2 [00:01<00:00,  1.52chromosome/s]\n",
      "HG006, q arm: 100%|██████████| 6/6 [00:05<00:00,  1.16chromosome/s]\n",
      "HG007, p arm: 100%|██████████| 3/3 [00:01<00:00,  2.25chromosome/s]\n",
      "HG007, q arm: 100%|██████████| 9/9 [00:04<00:00,  1.91chromosome/s]\n"
     ]
    }
   ],
   "source": [
    "PER_ARM_ENTROPIES = defaultdict(lambda: {\"p\": None, \"q\": None})\n",
    "\n",
    "for subject, (ksp, ksq) in KMERSCANS.items():\n",
    "    try:\n",
    "        PER_ARM_ENTROPIES[subject][\"p\"] = pd.concat(\n",
    "            calculate_entropies(bdf, chrom, 5, ECX)\n",
    "            for chrom, bdf in tqdm(ksp.items(), desc=f\"{subject}, p arm\", unit=\"chromosome\")\n",
    "        )\n",
    "    except ValueError:\n",
    "        pass\n",
    "    try:\n",
    "        PER_ARM_ENTROPIES[subject][\"q\"] = pd.concat(\n",
    "            calculate_entropies(bdf, chrom, 3, ECX)\n",
    "            for chrom, bdf in tqdm(ksq.items(), desc=f\"{subject}, q arm\", unit=\"chromosome\")\n",
    "        )\n",
    "    except ValueError:\n",
    "        pass"
   ]
  },
  {
   "cell_type": "code",
   "execution_count": 68,
   "metadata": {
    "scrolled": false
   },
   "outputs": [],
   "source": [
    "def get_kde(data, n_points=1000, bw=.075, scale=None):\n",
    "    kde_x = np.linspace(data.min(), data.max(), n_points)\n",
    "    kde_y = gaussian_kde(data, bw_method=bw).pdf(kde_x)\n",
    "    kink = kde_x[argrelmin(kde_y)[0]][0]\n",
    "    if scale:\n",
    "        return kde_x, kde_y*scale/kde_y.max(), kink\n",
    "    else:\n",
    "        return kde_x, kde_y, kink"
   ]
  },
  {
   "cell_type": "code",
   "execution_count": 227,
   "metadata": {
    "scrolled": false
   },
   "outputs": [
    {
     "data": {
      "image/png": "[encoded data removed]",
      "text/plain": [
       "<Figure size 432x864 with 1 Axes>"
      ]
     },
     "metadata": {
      "needs_background": "light"
     },
     "output_type": "display_data"
    }
   ],
   "source": [
    "figure, ax = subplots(figsize=(6, 12))\n",
    "for i, subject in enumerate(sorted(PER_ARM_ENTROPIES)):\n",
    "    entropies_list = []\n",
    "    if PER_ARM_ENTROPIES[subject][\"p\"] is not None:\n",
    "        entropies_list.append(PER_ARM_ENTROPIES[subject][\"p\"][\"entropy\"].values)\n",
    "    if PER_ARM_ENTROPIES[subject][\"q\"] is not None:\n",
    "        entropies_list.append(PER_ARM_ENTROPIES[subject][\"q\"][\"entropy\"].values)\n",
    "    dataset = np.concatenate(entropies_list)\n",
    "    perc_zeros = 100 * sum(dataset==0) / len(dataset)\n",
    "    q50 = np.median(dataset)\n",
    "    q75 = np.quantile(dataset, .75)\n",
    "    ax.plot((0, 1), [i, i], color=\"#888\", lw=1, ls=\":\")\n",
    "    estimator, kde, _ = get_kde(dataset, n_points=100, bw=.075, scale=.5)\n",
    "    ax.plot(\n",
    "        np.concatenate([[0], estimator]),\n",
    "        np.concatenate([[i], i-kde-.02]),\n",
    "        color=\"black\", lw=1, alpha=1, clip_on=False,\n",
    "    )\n",
    "    if perc_zeros >= 50:\n",
    "        ax.text(\n",
    "            x=.01, y=i-.6, va=\"bottom\", ha=\"left\", fontsize=12, color=\"navy\",\n",
    "            s=f\"q50 = q{perc_zeros:.0f} = 0\",\n",
    "        )\n",
    "    else:\n",
    "        ax.text(\n",
    "            x=.01, y=i-.6, va=\"bottom\", ha=\"left\", fontsize=12, color=\"#333\",\n",
    "            s=f\"q{perc_zeros:.0f} = 0\",\n",
    "        )\n",
    "        ax.text(\n",
    "            x=q50+.01, y=i-.25, va=\"bottom\", ha=\"left\", fontsize=12, color=\"gray\",\n",
    "            s=f\"q50 = {q50:.2f} ≠ 0\",\n",
    "        )\n",
    "        ax.plot([q50, q50], [i, i-.3], color=\"#888\", lw=1, ls=\"--\")\n",
    "    ax.plot([0, 0], [i-.5, i-.65], color=\"#888\", lw=1, ls=\"--\")\n",
    "\n",
    "ax.set_xlabel(\"entropy\", fontsize=13)\n",
    "ax.set(\n",
    "    xlim=(0, 1), ylim=(6.2, -1), ylabel=None,\n",
    "    yticks=np.arange(0, len(PER_ARM_ENTROPIES))-.05, yticklabels=sorted(PER_ARM_ENTROPIES),\n",
    ")\n",
    "for tick in ax.get_yticklabels():\n",
    "    tick.set(rotation=90, va=\"bottom\", fontsize=13)\n",
    "ax.tick_params(axis=\"y\", which=\"both\", length=0)\n",
    "for spine in \"top\", \"left\", \"right\":\n",
    "    ax.spines[spine].set(visible=False)\n",
    "\n",
    "figure.savefig(\"Figure 3, entropy.pdf\", bbox_inches=\"tight\")"
   ]
  }
 ],
 "metadata": {
  "kernelspec": {
   "display_name": "Python 3",
   "language": "python",
   "name": "python3"
  },
  "language_info": {
   "codemirror_mode": {
    "name": "ipython",
    "version": 3
   },
   "file_extension": ".py",
   "mimetype": "text/x-python",
   "name": "python",
   "nbconvert_exporter": "python",
   "pygments_lexer": "ipython3",
   "version": "3.7.1"
  }
 },
 "nbformat": 4,
 "nbformat_minor": 2
}
