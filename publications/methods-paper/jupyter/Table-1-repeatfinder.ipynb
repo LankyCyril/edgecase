{
 "cells": [
  {
   "cell_type": "code",
   "execution_count": 1,
   "metadata": {},
   "outputs": [],
   "source": [
    "import pandas as pd\n",
    "import numpy as np\n",
    "import seaborn as sns\n",
    "import re\n",
    "from matplotlib.pyplot import subplots, style, rc\n",
    "from tqdm import tqdm\n",
    "from venn import venn, pseudovenn\n",
    "from collections import defaultdict\n",
    "from itertools import count, islice\n",
    "from functools import lru_cache"
   ]
  },
  {
   "cell_type": "code",
   "execution_count": 46,
   "metadata": {},
   "outputs": [],
   "source": [
    "TEX_HEADER = r'\\begin{samepage} \\begin{table}[h!] \\small'\n",
    "TEX_FOOTER = \"\\\\caption{}\\n\\\\label{}\\n\\\\end{table}\\n\\\\end{samepage}\""
   ]
  },
  {
   "cell_type": "code",
   "execution_count": 52,
   "metadata": {},
   "outputs": [
    {
     "name": "stdout",
     "output_type": "stream",
     "text": [
      "\\begin{samepage} \\begin{table}[h!] \\small\n",
      "\\begin{tabular}{lllllllllllllllll}\n",
      "\\hline\n",
      "arm &        monomer & \\multicolumn{7}{l}{fraction\\_explained} & \\multicolumn{7}{l}{score} & p\\_adjusted \\\\\n",
      "    &              . &              HG001 & HG002 & HG003 & HG004 & HG005 & HG006 & HG007 &   HG001 &   HG002 &   HG003 &   HG004 &   HG005 &   HG006 &   HG007 &          . \\\\\n",
      "\\hline\n",
      "  q &         TTAGGG &               74.5 &  82.5 &  80.1 &  81.7 &  75.7 &  77.5 &  62.2 &  0.6295 &  0.7126 &  0.6255 &  0.6497 &  0.6113 &  0.5988 &  0.4550 &  9.51e-113 \\\\\n",
      "  q &         TTGGGG &                2.5 &   3.4 &   2.8 &   2.8 &   2.4 &   3.1 &   6.6 &  0.0158 &  0.0229 &  0.0175 &  0.0179 &  0.0155 &  0.0197 &  0.0434 &   4.04e-58 \\\\\n",
      "  q &        TTAGGGG &                4.6 &   4.8 &   7.2 &   6.0 &   5.1 &   7.6 &   9.0 &  0.0152 &  0.0166 &  0.0200 &  0.0163 &  0.0161 &  0.0232 &  0.0279 &  4.22e-110 \\\\\n",
      "  q &         TGAGGG &                1.9 &   2.5 &   1.7 &   2.0 &   3.6 &   2.9 &   4.1 &  0.0128 &  0.0162 &  0.0102 &  0.0129 &  0.0230 &  0.0184 &  0.0265 &   1.15e-47 \\\\\n",
      "  q &         TTCGGG &                1.2 &   0.5 &   0.7 &   0.4 &   1.4 &   1.1 &   2.5 &  0.0080 &  0.0034 &  0.0043 &  0.0025 &  0.0095 &  0.0077 &  0.0168 &   7.68e-46 \\\\\n",
      "  q &  TTAGGGTTAGGGG &                3.0 &   3.3 &   6.3 &   5.4 &   3.7 &   6.0 &   6.5 &  0.0043 &  0.0050 &  0.0090 &  0.0073 &  0.0053 &  0.0083 &  0.0092 &  2.76e-102 \\\\\n",
      "  q &         TCAGGG &                0.9 &   0.7 &   1.1 &   1.0 &   1.1 &   0.8 &   1.4 &  0.0065 &  0.0044 &  0.0078 &  0.0069 &  0.0082 &  0.0058 &  0.0087 &   1.22e-24 \\\\\n",
      "  q &          TTAGG &                1.8 &   1.6 &   3.4 &   4.2 &   2.0 &   3.2 &   1.9 &  0.0048 &  0.0041 &  0.0092 &  0.0110 &  0.0052 &  0.0084 &  0.0049 &   4.60e-94 \\\\\n",
      "  q &          TAGGG &                2.3 &   1.9 &   3.1 &   3.0 &   2.8 &   3.2 &   2.4 &  0.0050 &  0.0039 &  0.0067 &  0.0063 &  0.0058 &  0.0067 &  0.0048 &   5.75e-91 \\\\\n",
      "  q &    TTAGGTTAGGG &                2.7 &   2.6 &   5.2 &   6.5 &   2.8 &   4.9 &   2.5 &  0.0037 &  0.0034 &  0.0069 &  0.0088 &  0.0037 &  0.0065 &  0.0033 &   1.97e-89 \\\\\n",
      "  q &         TAGGGC &                0.5 &   0.4 &   0.6 &   0.6 &   0.8 &   0.2 &   1.3 &  0.0039 &  0.0032 &  0.0047 &  0.0047 &  0.0060 &  0.0014 &  0.0099 &   5.64e-42 \\\\\n",
      "  q &        TTTAGGG &                1.5 &   1.5 &   1.4 &   1.4 &   1.4 &   2.2 &   2.5 &  0.0048 &  0.0039 &  0.0029 &  0.0028 &  0.0034 &  0.0055 &  0.0058 &   2.32e-79 \\\\\n",
      "  q &         TAGGGG &                0.7 &   0.9 &   0.6 &   0.9 &   0.7 &   0.6 &   1.2 &  0.0035 &  0.0051 &  0.0028 &  0.0044 &  0.0034 &  0.0025 &  0.0060 &   2.68e-42 \\\\\n",
      "  q &    TAGGGTTAGGG &                3.1 &   2.6 &   3.9 &   4.0 &   3.5 &   3.8 &   2.9 &  0.0036 &  0.0031 &  0.0041 &  0.0041 &  0.0041 &  0.0040 &  0.0035 &   1.45e-84 \\\\\n",
      "  q &        TTAAGGG &                0.8 &   1.2 &   1.1 &   0.8 &   1.0 &   1.2 &   1.3 &  0.0022 &  0.0030 &  0.0032 &  0.0021 &  0.0029 &  0.0034 &  0.0032 &   4.87e-70 \\\\\n",
      "  q &          TTGGG &                1.4 &   0.9 &   1.9 &   1.7 &   1.8 &   1.9 &   1.4 &  0.0022 &  0.0013 &  0.0032 &  0.0026 &  0.0028 &  0.0028 &  0.0022 &   3.17e-70 \\\\\n",
      "  q &  TTAGGGTTTAGGG &                1.2 &   1.4 &   1.4 &   1.5 &   1.3 &   2.0 &   2.3 &  0.0011 &  0.0017 &  0.0013 &  0.0014 &  0.0016 &  0.0021 &  0.0033 &   5.17e-68 \\\\\n",
      "  q &    TTGGGTTAGGG &                1.7 &   1.0 &   2.1 &   1.9 &   1.9 &   2.0 &   1.1 &  0.0012 &  0.0007 &  0.0013 &  0.0014 &  0.0015 &  0.0014 &  0.0008 &   1.75e-53 \\\\\n",
      "  q &  TTAGGGTTAAGGG &                0.5 &   1.0 &   0.9 &   0.5 &   0.7 &   0.7 &   1.0 &  0.0005 &  0.0020 &  0.0009 &  0.0004 &  0.0006 &  0.0009 &  0.0007 &   1.03e-50 \\\\\n",
      "  p &         CCCTAA &               21.5 &  36.3 &  19.9 &  17.1 &  32.0 &  16.9 &  11.6 &  0.1687 &  0.3113 &  0.1491 &  0.1258 &  0.2639 &  0.1255 &  0.0831 &  9.51e-113 \\\\\n",
      "  p &         CCCCAA &                1.5 &   1.6 &   1.4 &   1.1 &   1.8 &   1.1 &   1.4 &  0.0100 &  0.0104 &  0.0087 &  0.0073 &  0.0120 &  0.0073 &  0.0093 &   1.05e-73 \\\\\n",
      "  p &        CCCCTAA &                2.3 &   2.4 &   1.9 &   2.0 &   2.2 &   1.9 &   1.9 &  0.0075 &  0.0075 &  0.0054 &  0.0059 &  0.0067 &  0.0056 &  0.0061 &  9.17e-109 \\\\\n",
      "  p &  CCCCTAACCCTAA &                1.8 &   2.0 &   1.6 &   1.6 &   2.0 &   1.6 &   1.3 &  0.0029 &  0.0031 &  0.0023 &  0.0023 &  0.0029 &  0.0023 &  0.0022 &   1.46e-97 \\\\\n",
      "  p &         GGCGCA &                2.1 &   1.8 &   1.4 &   1.1 &   1.6 &   1.4 &   1.1 &  0.0028 &  0.0023 &  0.0019 &  0.0014 &  0.0022 &  0.0020 &  0.0016 &   2.35e-27 \\\\\n",
      "  p &          CCGCG &                1.1 &   0.8 &   0.7 &   0.5 &   0.8 &   0.9 &   0.9 &  0.0028 &  0.0020 &  0.0018 &  0.0013 &  0.0021 &  0.0022 &  0.0021 &  4.35e-100 \\\\\n",
      "  p &          CCCTA &                0.9 &   1.1 &   1.0 &   0.9 &   1.2 &   0.8 &   0.5 &  0.0020 &  0.0021 &  0.0022 &  0.0019 &  0.0026 &  0.0015 &  0.0010 &   2.38e-98 \\\\\n",
      "  p &          CCTAA &                0.8 &   1.0 &   0.9 &   0.9 &   0.6 &   0.6 &   0.4 &  0.0020 &  0.0026 &  0.0023 &  0.0023 &  0.0016 &  0.0016 &  0.0010 &  5.75e-100 \\\\\n",
      "  p &    CCCTAACCTAA &                1.1 &   1.6 &   1.3 &   1.2 &   0.9 &   0.9 &   0.5 &  0.0015 &  0.0021 &  0.0017 &  0.0016 &  0.0012 &  0.0012 &  0.0007 &   1.47e-80 \\\\\n",
      "  p &    CCCTACCCTAA &                1.1 &   1.3 &   1.2 &   0.9 &   1.6 &   0.9 &   0.5 &  0.0012 &  0.0020 &  0.0012 &  0.0011 &  0.0021 &  0.0010 &  0.0007 &   6.67e-77 \\\\\n",
      "\\hline\n",
      "\\end{tabular}\n",
      "\\caption{}\n",
      "\\label{}\n",
      "\\end{table}\n"
     ]
    }
   ],
   "source": [
    "def convert_tsv(filename, arm):\n",
    "    tsv = pd.read_csv(filename, sep=\"\\t\", escapechar=\"#\", header=[0,1])\n",
    "    tsv.columns = pd.MultiIndex.from_tuples([\n",
    "        (top, bottom if ((bottom != \"monomer\") and (not bottom.startswith(\"Unnamed\"))) else \".\")\n",
    "        for top, bottom in list(tsv.columns)\n",
    "    ])\n",
    "    tsv = tsv[(tsv.iloc[:,1:8]>=.01).any(axis=1)]\n",
    "    for i in range(1, 8):\n",
    "        tsv.iloc[:,i] = tsv.iloc[:,i].apply(lambda x: \"<0.1\" if x < .0005 else format(100*x, \".1f\"))\n",
    "    for i in range(8, 15):\n",
    "        tsv.iloc[:,i] = tsv.iloc[:,i].apply(lambda x: format(x, \".4f\"))\n",
    "    tsv.iloc[:,15] = tsv.iloc[:,15].apply(lambda x: format(x, \".2e\"))\n",
    "    tsv.insert(loc=0, column=(\"Arm\", \"\"), value=arm)\n",
    "    return tsv\n",
    "\n",
    "preformatted = pd.concat(\n",
    "    objs=[convert_tsv(\"PacBio/repeatfinder-q_arm.tsv\", arm=\"q\"), convert_tsv(\"PacBio/repeatfinder-p_arm.tsv\", arm=\"p\")],\n",
    "    axis=0, sort=False,\n",
    ")\n",
    "\n",
    "with open(\"Table-1-repeatfinder.tex\", mode=\"wt\") as tex:\n",
    "    print(\n",
    "        TEX_HEADER,\n",
    "        preformatted.to_latex(index=False).rstrip(\"\\n\")\n",
    "            .replace(r'\\toprule', r'\\hline')\n",
    "            .replace(r'\\midrule', r'\\hline')\n",
    "            .replace(r'\\bottomrule', r'\\hline'),\n",
    "        TEX_FOOTER,\n",
    "        sep=\"\\n\", file=tex,\n",
    "    )"
   ]
  }
 ],
 "metadata": {
  "kernelspec": {
   "display_name": "Python 3",
   "language": "python",
   "name": "python3"
  },
  "language_info": {
   "codemirror_mode": {
    "name": "ipython",
    "version": 3
   },
   "file_extension": ".py",
   "mimetype": "text/x-python",
   "name": "python",
   "nbconvert_exporter": "python",
   "pygments_lexer": "ipython3",
   "version": "3.7.1"
  }
 },
 "nbformat": 4,
 "nbformat_minor": 2
}
