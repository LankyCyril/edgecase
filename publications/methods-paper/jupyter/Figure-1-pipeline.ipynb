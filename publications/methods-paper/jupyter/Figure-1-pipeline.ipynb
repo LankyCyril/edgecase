{
 "cells": [
  {
   "cell_type": "code",
   "execution_count": 1,
   "metadata": {},
   "outputs": [],
   "source": [
    "import pandas as pd\n",
    "import numpy as np\n",
    "import seaborn as sns\n",
    "import re\n",
    "from matplotlib.pyplot import subplots, style, rc\n",
    "from tqdm import tqdm\n",
    "from venn import venn, pseudovenn\n",
    "from collections import defaultdict\n",
    "from itertools import count, islice\n",
    "from functools import lru_cache\n",
    "from pysam import AlignmentFile"
   ]
  },
  {
   "cell_type": "code",
   "execution_count": 2,
   "metadata": {},
   "outputs": [],
   "source": [
    "%matplotlib inline"
   ]
  },
  {
   "cell_type": "code",
   "execution_count": 3,
   "metadata": {},
   "outputs": [],
   "source": [
    "ecx = pd.read_csv(\"assets/hg38ext.fa.ecx\", sep=\"\\t\", skiprows=1, escapechar=\"#\") \\\n",
    "    .query(\"flag==16384\").query(\"blacklist=='-'\") \\\n",
    "    .drop(columns=[\"entry\", \"pos+1\", \"main_rname\", \"flag\", \"link\", \"blacklist\", \"class\"])\n",
    "\n",
    "ecx[\"sorter\"] = ecx[\"chromosome\"].apply(lambda c: 999 if c == \"chrX\" else int(c[3:]))\n",
    "ecx = ecx.sort_values(by=\"sorter\").drop(columns=\"sorter\")"
   ]
  },
  {
   "cell_type": "code",
   "execution_count": 4,
   "metadata": {},
   "outputs": [],
   "source": [
    "def load_bam(filename):\n",
    "    p_arm, q_arm = defaultdict(list), defaultdict(list)\n",
    "    with AlignmentFile(filename) as bam:\n",
    "        for entry in bam:\n",
    "            if (entry.flag & 0x4000 == 0x4000) and (entry.seq is not None) and (entry.flag & 3844 == 0): # tract_anchor\n",
    "                entry_stats = [\n",
    "                    entry.reference_start, entry.query_alignment_start,\n",
    "                    entry.reference_end, entry.query_alignment_end,\n",
    "                    len(entry.seq)\n",
    "                ]\n",
    "                if entry.flag & 0x8000 == 0x8000: # is_q\n",
    "                    q_arm[entry.reference_name].append(entry_stats)\n",
    "                else:\n",
    "                    p_arm[entry.reference_name].append(entry_stats)\n",
    "    return p_arm, q_arm"
   ]
  },
  {
   "cell_type": "code",
   "execution_count": 5,
   "metadata": {},
   "outputs": [],
   "source": [
    "def get_chroms(ecx, p_arm, q_arm, blacklist=[]):\n",
    "    chroms = []\n",
    "    for c in ecx[\"chromosome\"]:\n",
    "        if ecx.loc[ecx[\"chromosome\"]==c, \"rname\"].iloc[0] in (set(p_arm) | set(q_arm)):\n",
    "            if (c not in chroms) and (c not in blacklist):\n",
    "                chroms.append(c)\n",
    "    return chroms"
   ]
  },
  {
   "cell_type": "code",
   "execution_count": 6,
   "metadata": {},
   "outputs": [],
   "source": [
    "def get_reads(refdata, x_arm, prime):\n",
    "    _x = refdata.loc[refdata[\"prime\"]==prime, \"rname\"]\n",
    "    if len(_x):\n",
    "        if x_arm[_x.iloc[0]]:\n",
    "            return _x.iloc[0], x_arm[_x.iloc[0]]\n",
    "    return None, []"
   ]
  },
  {
   "cell_type": "code",
   "execution_count": 31,
   "metadata": {},
   "outputs": [],
   "source": [
    "def init_figure(chroms, p_arm, q_arm, r=15000, rin=-20000, rout=12000, ymin=-19, b=-13, m=-9, t=-4, lw=.75, annot=True):\n",
    "    maxcov = max(\n",
    "        max(len(get_reads(ecx[ecx[\"chromosome\"]==chrom], p_arm, 5)[1]), len(get_reads(ecx[ecx[\"chromosome\"]==chrom], q_arm, 3)[1]))\n",
    "        for chrom in chroms\n",
    "    )\n",
    "    n_chroms = len(chroms)\n",
    "    figure, axs = subplots(\n",
    "        figsize=(15, (maxcov-ymin)*n_chroms/40), gridspec_kw=dict(wspace=0, width_ratios=(7, 3, 7)),\n",
    "        ncols=3, nrows=n_chroms, squeeze=False, sharey=True,\n",
    "    )\n",
    "    for j, row in enumerate(axs):\n",
    "        for i, ax in enumerate(row):\n",
    "            order = i - 1\n",
    "            if i % 2 == 0:\n",
    "                ax.set(xlim=[rin*order, rout*order][::order], ylim=(ymin, maxcov))\n",
    "                ax.set(xticklabels=[int(t/1000) for t in ax.get_xticks()])\n",
    "            else:\n",
    "                ax.set(xlim=[-r, r], ylim=(ymin, maxcov), xticks=[0], xticklabels=[\"...\"], yticks=[])\n",
    "                ax.spines[\"bottom\"].set_linestyle((0, (3, 10, 1, 10, 1, 10)))\n",
    "            for spine in [\"left\", \"top\", \"right\"]:\n",
    "                ax.spines[spine].set_visible(False)\n",
    "            if i == 1:\n",
    "                if j == axs.shape[0]-1:\n",
    "                    ax.text(x=0, y=ymin*2.4, s=\"Position in Kbp, relative to boundaries of telomeric tracts\", fontsize=13, ha=\"center\")\n",
    "                if annot:\n",
    "                    ax.text(x=0, y=5, s=\"centromere\", fontsize=12, ha=\"center\")\n",
    "            else:\n",
    "                if annot:\n",
    "                    sub_ha, tel_ha = [\"right\", \"left\"][::order]\n",
    "                    ax.text(x=-order*r/20, y=m, s=\"subtelomere\", fontsize=12, ha=sub_ha, va=\"center\")\n",
    "                    ax.text(x=order*r/20, y=m, s=\"telomere\", fontsize=12, ha=tel_ha, va=\"center\")\n",
    "        xw = r/3\n",
    "        for order in (1, -1):\n",
    "            row[1].plot([-xw, xw], [t, b][::order], color=\"black\", lw=lw)\n",
    "            row[1].fill_between([xw*order, 0], [b, m], [t, m], color=\"#E0E0E0\")\n",
    "            for i in range(1, 8):\n",
    "                row[1].plot([(xw+xw*i/3)*order]*2, [b, t], color=\"gray\", lw=3)\n",
    "        for ax, order in zip((row[0], row[2]), (1, -1)):\n",
    "            ax.plot([0, 0], [b, t], lw=.75, color=\"black\")\n",
    "            for y in (t, b):\n",
    "                ax.plot([0, -.95*rin*order], [y, y], lw=lw, color=\"black\")\n",
    "                ax.plot([0, -.95*rout*order], [y, y], lw=lw, color=\"black\", ls=\"--\")\n",
    "            ax.fill_between([0, -.95*rin*order], [b, b], [t, t], color=\"#E0E0E0\")\n",
    "            ax.fill_between([0, -.95*rout*order], [b, b], [t, t], color=\"#EEF0FF\")\n",
    "        if annot:\n",
    "            row[0].text(x=-12000, y=0, s=\"$p$ arm (5')\", fontsize=12, ha=\"left\")\n",
    "            row[2].text(x=+12000, y=0, s=\"$q$ arm (3')\", fontsize=12, ha=\"right\")\n",
    "    return figure, axs"
   ]
  },
  {
   "cell_type": "code",
   "execution_count": 15,
   "metadata": {},
   "outputs": [],
   "source": [
    "def plot_pileup(chrom, p_arm, q_arm, ecx, pax, qax, ymin=-19):\n",
    "    refdata = ecx[ecx[\"chromosome\"]==chrom]\n",
    "    p_ref, p_reads = get_reads(refdata, p_arm, 5)\n",
    "    q_ref, q_reads = get_reads(refdata, q_arm, 3)\n",
    "    if p_reads:\n",
    "        anchor_pos = refdata.loc[refdata[\"prime\"]==5, \"pos\"].iloc[0]\n",
    "        plottables = []\n",
    "        for rs, qs, re, qe, sl in p_reads:\n",
    "            xe = re + (sl - qe) - anchor_pos\n",
    "            xs = xe - sl\n",
    "            plottables.append([xs, xe])\n",
    "        for i, (xs, xe) in enumerate(sorted(plottables, key=lambda x:x[1], reverse=True)):\n",
    "            pax.plot([xs, 0], [i, i], color=\"darkblue\", lw=.75)\n",
    "            pax.plot([0, xe], [i, i], color=\"gray\", lw=.75)\n",
    "    if q_reads:\n",
    "        anchor_pos = refdata.loc[refdata[\"prime\"]==3, \"pos\"].iloc[0]\n",
    "        for i, (rs, qs, re, qe, sl) in enumerate(sorted(q_reads)):\n",
    "            xs = rs - anchor_pos\n",
    "            xe = xs + (sl - qs)\n",
    "            qax.plot([xs, 0], [i, i], color=\"gray\", lw=.75)\n",
    "            qax.plot([0, xe], [i, i], color=\"darkblue\", lw=.75)\n",
    "    for ax, reads in zip((pax, qax), (p_reads, q_reads)):\n",
    "        ax.plot([0, 0], [ymin, len(reads)], color=\"#EE3333\", lw=2, ls=\"--\")"
   ]
  },
  {
   "cell_type": "code",
   "execution_count": 137,
   "metadata": {},
   "outputs": [
    {
     "data": {
      "image/png": "[encoded data removed]",
      "text/plain": [
       "<Figure size 1080x311.4 with 3 Axes>"
      ]
     },
     "metadata": {
      "needs_background": "light"
     },
     "output_type": "display_data"
    }
   ],
   "source": [
    "def add_custom_legend(cax):\n",
    "    cax.plot([-10300, -3000], [120, 120], lw=3, color=\"#BBB\")\n",
    "    cax.plot([-3000, 2000], [120, 120], lw=3, color=\"darkblue\")\n",
    "    cax.plot([-3200, -3200], [117, 123], lw=2, color=\"#EE3333\")\n",
    "    cax.text(x=-5000, y=126, s=\"candidate read\")\n",
    "    cax.plot([-3000, 2000], [100, 100], lw=3, color=\"darkblue\")\n",
    "    cax.plot([-3200, -3200], [97, 103], lw=2, color=\"#EE3333\")\n",
    "    cax.text(x=-5000, y=106, s=\"telomeric sequence\")\n",
    "    cax.plot([-11500, 5000], [138, 138], lw=.5, color=\"black\")\n",
    "    cax.plot([-11500, -11500], [90, 138], lw=.5, color=\"black\")\n",
    "    cax.plot([-11500, 5000], [90, 90], lw=.5, color=\"black\")\n",
    "    cax.plot([5000, 5000], [90, 138], lw=.5, color=\"black\")\n",
    "\n",
    "p_arm, q_arm = load_bam(\"PacBio/AshkenazimTrio/HG002/tailpuller.bam\")\n",
    "chroms = get_chroms(ecx, p_arm, q_arm)\n",
    "chroms = [\"chr5\"]\n",
    "\n",
    "figure, axs = init_figure(chroms, p_arm, q_arm, annot=True)\n",
    "for chrom, (pax, cax, qax) in zip(chroms, axs):\n",
    "    plot_pileup(chrom, p_arm, q_arm, ecx, pax, qax)\n",
    "    for ax in pax, qax:\n",
    "        ax.text(x=0, y=-31, s=\"$tract\\_anchor$\", va=\"top\", ha=\"center\", fontsize=8)\n",
    "    add_custom_legend(pax)\n",
    "\n",
    "figure.savefig(\"Figure 1.pdf\", bbox_inches=\"tight\")"
   ]
  }
 ],
 "metadata": {
  "kernelspec": {
   "display_name": "Python 3",
   "language": "python",
   "name": "python3"
  },
  "language_info": {
   "codemirror_mode": {
    "name": "ipython",
    "version": 3
   },
   "file_extension": ".py",
   "mimetype": "text/x-python",
   "name": "python",
   "nbconvert_exporter": "python",
   "pygments_lexer": "ipython3",
   "version": "3.7.1"
  }
 },
 "nbformat": 4,
 "nbformat_minor": 2
}
