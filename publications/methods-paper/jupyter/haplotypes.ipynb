{
 "cells": [
  {
   "cell_type": "code",
   "execution_count": 260,
   "metadata": {},
   "outputs": [],
   "source": [
    "import pandas as pd\n",
    "import numpy as np\n",
    "import seaborn as sns\n",
    "import re\n",
    "from matplotlib.pyplot import subplots, style, rc, rc_context\n",
    "from tqdm import tqdm\n",
    "from venn import venn, pseudovenn\n",
    "from collections import defaultdict\n",
    "from itertools import count, islice\n",
    "from functools import lru_cache\n",
    "from argparse import Namespace"
   ]
  },
  {
   "cell_type": "code",
   "execution_count": 3,
   "metadata": {},
   "outputs": [],
   "source": [
    "from glob import glob\n",
    "from scipy.spatial.distance import squareform\n",
    "from scipy.cluster.hierarchy import dendrogram, fcluster, linkage\n",
    "from sklearn.metrics import silhouette_score\n",
    "from matplotlib.gridspec import GridSpec\n",
    "%matplotlib inline"
   ]
  },
  {
   "cell_type": "code",
   "execution_count": 245,
   "metadata": {},
   "outputs": [],
   "source": [
    "from edgecaselib.formats import load_index, load_kmerscan\n",
    "from edgecaselib.densityplot import interpret_arguments\n",
    "from pickle import dump, load\n",
    "from os import path\n",
    "from tempfile import NamedTemporaryFile\n",
    "from subprocess import check_output, CalledProcessError\n",
    "from pysam import AlignmentFile\n",
    "from scipy.stats import chi2_contingency\n",
    "from statsmodels.stats.multitest import multipletests\n",
    "from scipy.ndimage import uniform_filter1d"
   ]
  },
  {
   "cell_type": "code",
   "execution_count": 5,
   "metadata": {},
   "outputs": [],
   "source": [
    "SAMFILTERS = [\"is_q|tract_anchor\", 3844, 0]\n",
    "ecx = load_index(\"assets/hg38ext.fa.ecx\")"
   ]
  },
  {
   "cell_type": "code",
   "execution_count": 6,
   "metadata": {},
   "outputs": [],
   "source": [
    "SUBJECT_TO_TRIO = {\n",
    "    \"HG001\": \"NA12878\",\n",
    "    \"HG002\": \"AshkenazimTrio\", \"HG003\": \"AshkenazimTrio\", \"HG004\": \"AshkenazimTrio\",\n",
    "    \"HG005\": \"ChineseTrio\", \"HG006\": \"ChineseTrio\", \"HG007\": \"ChineseTrio\",\n",
    "}"
   ]
  },
  {
   "cell_type": "code",
   "execution_count": 7,
   "metadata": {},
   "outputs": [],
   "source": [
    "RAW_GLOBAL_LDS = {\n",
    "    re.sub(r'-matrix\\.tsv$', \"\", filename.split(\"/\")[-1]): pd.read_csv(filename, sep=\"\\t\", index_col=0)\n",
    "    for filename in glob(\"PacBio/haplotypes/levenshtein-q_arm/*-matrix.tsv\")\n",
    "}"
   ]
  },
  {
   "cell_type": "code",
   "execution_count": 261,
   "metadata": {},
   "outputs": [],
   "source": [
    "KMERSCANNER_PKL = \"PacBio/kmerscanner-q_arm.pkl\"\n",
    "KMERSCANNER_DAT = \"PacBio/kmerscanner-q_arm.dat.gz\"\n",
    "\n",
    "if path.isfile(KMERSCANNER_PKL):\n",
    "    with open(KMERSCANNER_PKL, mode=\"rb\") as pkl:\n",
    "        DENSITIES = load(pkl)\n",
    "else:\n",
    "    DENSITIES = load_kmerscan(KMERSCANNER_DAT, True, SAMFILTERS, 10)\n",
    "    with open(KMERSCANNER_PKL, mode=\"wb\") as pkl:\n",
    "        dump(DENSITIES, pkl)"
   ]
  },
  {
   "cell_type": "code",
   "execution_count": 269,
   "metadata": {},
   "outputs": [],
   "source": [
    "MAXLEN = 1700"
   ]
  },
  {
   "cell_type": "code",
   "execution_count": 11,
   "metadata": {},
   "outputs": [],
   "source": [
    "class GridFig():\n",
    "\n",
    "    def __init__(self, width_ratios, height_ratios, scale=1):\n",
    "        self.figure, _ = subplots(\n",
    "            figsize=(sum(width_ratios)*scale, sum(height_ratios)*scale),\n",
    "            ncols=0, nrows=0,\n",
    "        )\n",
    "        self.gs = GridSpec(\n",
    "            ncols=len(width_ratios), wspace=0, width_ratios=width_ratios, \n",
    "            nrows=len(height_ratios), hspace=0, height_ratios=height_ratios,\n",
    "            figure=self.figure,\n",
    "        )\n",
    " \n",
    "    def subplot(self, gridspec_slice, aspect=\"auto\", frame=False):\n",
    "        ax = self.figure.add_subplot(gridspec_slice, aspect=aspect)\n",
    "        if frame is False:\n",
    "            ax.set(frame_on=False)\n",
    "        else:\n",
    "            for spine in {\"top\", \"right\", \"bottom\", \"left\"} - set(frame):\n",
    "                ax.spines[spine].set_visible(False)\n",
    "        return ax"
   ]
  },
  {
   "cell_type": "code",
   "execution_count": 12,
   "metadata": {},
   "outputs": [],
   "source": [
    "def plot_dendrogram(Z, gf):\n",
    "    ax = gf.subplot(gf.gs[0,0])\n",
    "    with rc_context({\"lines.linewidth\": .5}):\n",
    "        dendrogram(\n",
    "            Z, orientation=\"left\",\n",
    "            link_color_func=lambda x: \"black\", ax=ax,\n",
    "        )\n",
    "    ax.set(\n",
    "        xticks=[], xlabel=None,\n",
    "        yticks=[], ylabel=None,\n",
    "        ylim=ax.get_ylim()[::-1],\n",
    "    )"
   ]
  },
  {
   "cell_type": "code",
   "execution_count": 13,
   "metadata": {},
   "outputs": [],
   "source": [
    "def plot_heatmap(data2d, gf, cmap=\"gray_r\", vmax=.15):\n",
    "    ax = gf.subplot(gf.gs[0,1])\n",
    "    sns.heatmap(data2d, cmap=cmap, cbar=False, vmin=0, vmax=vmax, ax=ax)\n",
    "    ax.set(xticks=[], yticks=[], xlabel=None, ylabel=None)"
   ]
  },
  {
   "cell_type": "code",
   "execution_count": 289,
   "metadata": {},
   "outputs": [],
   "source": [
    "def cluster(lds, metric=\"correlation\", method=\"ward\"):\n",
    "    Z = linkage(squareform(lds), metric=metric, method=method, optimal_ordering=True)\n",
    "    leaves = dendrogram(Z, no_plot=True)[\"leaves\"]\n",
    "    data2d = lds.iloc[leaves, leaves].copy()\n",
    "    dispatcher = pd.DataFrame(index=data2d.index)\n",
    "    dispatcher.index.name = \"read\"\n",
    "    to_subject = dispatcher.index.map(lambda s: s.split(\":\")[1])\n",
    "    for subject in sorted(to_subject.drop_duplicates()):\n",
    "        dispatcher[subject] = (to_subject==subject)\n",
    "    return Z, data2d, dispatcher"
   ]
  },
  {
   "cell_type": "code",
   "execution_count": 16,
   "metadata": {},
   "outputs": [],
   "source": [
    "def get_plottable_density_section(densities, chrom, motif, data2d, ecx):\n",
    "    chrom_densities = densities[chrom]\n",
    "    if motif is None:\n",
    "        by_motif = chrom_densities[chrom_densities[\"motif\"]==\"TTAGGG\"]\n",
    "    else:\n",
    "        by_motif = chrom_densities[chrom_densities[\"motif\"]==motif]\n",
    "    section = by_motif.set_index(\"name\").reindex(data2d.index).iloc[:,8:].copy()\n",
    "    if motif is None:\n",
    "        section = (~section.isnull()).astype(int) / 3\n",
    "    section.columns = section.columns.astype(int)\n",
    "    anchor = ecx.loc[\n",
    "        (ecx[\"rname\"]==chrom) & (ecx[\"flag\"]==0x4000) & (ecx[\"prime\"]==3),\n",
    "        \"pos\",\n",
    "    ].iloc[0]\n",
    "    return section[[c for c in section.columns if c>=anchor]]"
   ]
  },
  {
   "cell_type": "code",
   "execution_count": 17,
   "metadata": {},
   "outputs": [],
   "source": [
    "def get_absentees(lds, densities, chrom, ecx):\n",
    "    raw_section = get_plottable_density_section(densities, chrom, \"TTAGGG\", lds, ecx)\n",
    "    nulls = raw_section.isnull().all(axis=1)\n",
    "    return nulls[nulls].index"
   ]
  },
  {
   "cell_type": "code",
   "execution_count": 18,
   "metadata": {},
   "outputs": [],
   "source": [
    "def section_to_RGB(ps, color, alpha_factor=1.2):\n",
    "    return np.transpose(\n",
    "        np.array([\n",
    "            np.full_like(ps, color[0]),\n",
    "            np.full_like(ps, color[1]),\n",
    "            np.full_like(ps, color[2]),\n",
    "            np.clip(ps*alpha_factor, a_min=None, a_max=1),\n",
    "        ]),\n",
    "        axes=(1, 2, 0),\n",
    "    )"
   ]
  },
  {
   "cell_type": "code",
   "execution_count": null,
   "metadata": {},
   "outputs": [],
   "source": [
    "TRIO_COLORS = {\n",
    "    \"HG001\": \"black\",\n",
    "    \"HG002\": \"green\", \"HG003\": \"green\", \"HG004\": \"green\",\n",
    "    \"HG005\": \"steelblue\", \"HG006\": \"steelblue\", \"HG007\": \"steelblue\",\n",
    "}"
   ]
  },
  {
   "cell_type": "code",
   "execution_count": 147,
   "metadata": {},
   "outputs": [],
   "source": [
    "def plot_subjects(dispatcher, gf, s=10):\n",
    "    for i, subject in enumerate(sorted(SUBJECT_TO_TRIO)):\n",
    "        sax = gf.subplot(gf.gs[0,i+3])\n",
    "        sax.plot([0, 0], [0, len(dispatcher)], lw=.5, color=\"#888\")\n",
    "        if subject in dispatcher:\n",
    "            truthiness = dispatcher[subject].reset_index(drop=True)\n",
    "            positions = truthiness[truthiness].index\n",
    "            for x in [-.1, 0, .1]:\n",
    "                sax.scatter(x=[x]*len(positions), y=positions, marker=\"_\", s=s, color=TRIO_COLORS[subject])\n",
    "        sax.set(\n",
    "            xticks=[0], xticklabels=[subject],\n",
    "            yticks=[], xlabel=None, ylabel=None,\n",
    "            xlim=(-.5, .5),\n",
    "            ylim=(len(dispatcher), -1),\n",
    "        )\n",
    "        for tick in sax.get_xticklabels():\n",
    "            tick.set_rotation(90)\n",
    "        sax.tick_params(axis=\"both\", which=\"both\", length=0)"
   ]
  },
  {
   "cell_type": "code",
   "execution_count": 208,
   "metadata": {},
   "outputs": [],
   "source": [
    "IMSHOW_PALETTE = {\n",
    "    None: [.7, .7, .7],\n",
    "    \"TTAGGG\": [.1, .5, .2],\n",
    "    \"TGAGGG\": [1, 1, 0],\n",
    "    \"TTGGGG\": [.6, .27, .5],\n",
    "    \"TTAGGGG\": [.5, .13, 1],\n",
    "}"
   ]
  },
  {
   "cell_type": "code",
   "execution_count": 274,
   "metadata": {},
   "outputs": [],
   "source": [
    "def plot_densities(densities, chrom, data2d, ecx, gf, extent, bin_size=100):\n",
    "    ax = gf.subplot(gf.gs[0,-1])\n",
    "    for motif, color in IMSHOW_PALETTE.items():\n",
    "        ps = get_plottable_density_section(densities, chrom, motif, data2d, ecx).values\n",
    "        breakat = ps.shape[1]//100\n",
    "        if ps.shape[1] < MAXLEN:\n",
    "            ps = np.pad(ps, ((0, 0), (0, MAXLEN-ps.shape[1])))\n",
    "        pa = section_to_RGB(np.clip(uniform_filter1d(ps, 5, 1), a_min=0.0, a_max=1.0), color, 1.5)\n",
    "        ax.imshow(pa, extent=extent, interpolation=\"nearest\")\n",
    "    ticklabels=np.linspace(0, MAXLEN//100, MAXLEN//100+1).astype(int).astype(str)\n",
    "    ticklabels[breakat+1:] = \"\"\n",
    "    xmin, xmax = extent[:2]\n",
    "    ax.set(\n",
    "        xticks=np.linspace(xmin, xmax, MAXLEN//100+1),\n",
    "        xticklabels=ticklabels,\n",
    "        xlabel=\"Kbp of telomeric tract\",\n",
    "        yticks=[], ylabel=None,\n",
    "    )\n",
    "    ax.tick_params(axis=\"both\", which=\"both\", length=0)\n",
    "    ax.axhline(0, 0, (breakat+1)/len(ticklabels), lw=.5, c=\"black\")"
   ]
  },
  {
   "cell_type": "code",
   "execution_count": 288,
   "metadata": {},
   "outputs": [],
   "source": [
    "def process_lds(raw_global_lds, chrom, densities, ecx):\n",
    "    lds = raw_global_lds[chrom].copy()\n",
    "    absentees = get_absentees(lds, densities, chrom, ecx)\n",
    "    lds.drop(index=absentees, columns=absentees, inplace=True)\n",
    "    Z, data2d, dispatcher = cluster(lds, metric=\"euclidean\", method=\"ward\")\n",
    "    h = 6*len(lds)/200\n",
    "    w = 30\n",
    "    gf = GridFig([h/3,h,.3]+[.5]*7+[w], [h], scale=.4)\n",
    "    plot_dendrogram(Z, gf=gf)\n",
    "    plot_heatmap(data2d, gf=gf)\n",
    "    plot_subjects(dispatcher, gf=gf, s=7)\n",
    "    plot_densities(densities, chrom, data2d, ecx, gf=gf, extent=[0,w,0,h])\n",
    "    match = re.search(r'^\\d+', chrom)\n",
    "    if match:\n",
    "        name = \"chr{} ({})\".format(match.group(), chrom)\n",
    "    else:\n",
    "        name = chrom\n",
    "    gf.figure.get_axes()[0].set(ylabel=name)\n",
    "    return lds, Z, data2d, dispatcher, gf"
   ]
  },
  {
   "cell_type": "code",
   "execution_count": 43,
   "metadata": {},
   "outputs": [],
   "source": [
    "def run_mmc(df):\n",
    "    \"\"\" Use either:\n",
    "          * pymmc-pipeline from http://mmc.gnets.ncsu.edu/ and Python2\n",
    "          * our internal py3 fork and Python3\n",
    "    \"\"\"\n",
    "    with NamedTemporaryFile(mode=\"wt\", dir=\".\") as csv_in:\n",
    "        with NamedTemporaryFile(mode=\"wt\", dir=\".\") as tsv_out:\n",
    "            df.to_csv(csv_in, sep=\",\")\n",
    "            check_output([\n",
    "                \"python\", \"pymmc-pipeline/run-mmc.py\",\n",
    "                \"--csv-in\", path.split(csv_in.name)[1],\n",
    "                \"--clustered-out\", path.split(tsv_out.name)[1],\n",
    "            ])\n",
    "            dataframe_clustering = pd.read_csv(\n",
    "                tsv_out.name, sep=\"\\t\", index_col=[0,1], header=[0,1],\n",
    "            )\n",
    "    return dataframe_clustering"
   ]
  },
  {
   "cell_type": "code",
   "execution_count": 44,
   "metadata": {},
   "outputs": [],
   "source": [
    "def cluster_mmc(lds):\n",
    "    mmc = run_mmc(lds)\n",
    "    mmc_dispatcher = mmc.index.to_frame().droplevel(1, 0).iloc[:,[1]]\n",
    "    mmc_dispatcher.index.name = \"read\"\n",
    "    mmc_dispatcher[\"subject\"] = mmc_dispatcher.index.map(lambda s: s.split(\":\")[1])\n",
    "    counts = mmc_dispatcher.reset_index().groupby([\"cluster\", \"subject\"], as_index=False)[\"read\"].count()\n",
    "    contmat = counts.pivot(index=\"cluster\", columns=\"subject\", values=\"read\").fillna(0)\n",
    "    read_order = mmc.index.get_level_values(0)\n",
    "    data2mmc = lds.loc[read_order, read_order].copy()\n",
    "    return mmc, data2mmc, contmat"
   ]
  },
  {
   "cell_type": "code",
   "execution_count": null,
   "metadata": {
    "scrolled": false
   },
   "outputs": [],
   "source": [
    "stats = pd.DataFrame(columns=[\"n_clusters\", \"median_cluster_size\", \"score\", \"chi2\", \"p\", \"nspc\"])\n",
    "\n",
    "for chrom in tqdm(RAW_GLOBAL_LDS):\n",
    "    try:\n",
    "        lds, Z, data2d, dispatcher, gf = process_lds(RAW_GLOBAL_LDS, chrom, DENSITIES, ecx)\n",
    "        ns = Namespace(lds=lds, Z=Z, data2d=data2d, dispatcher=dispatcher, gf=gf)\n",
    "        with open(\"PacBio/haplotypes/clusters-q_arm/\"+chrom+\".pkl\", mode=\"wb\") as pkl:\n",
    "            dump(ns, pkl)\n",
    "    except ValueError: # too few observations\n",
    "        continue\n",
    "    try:\n",
    "        mmc, data2mmc, contmat = cluster_mmc(lds)\n",
    "    except (CalledProcessError, FileNotFoundError): # too few observations or pymmc not found\n",
    "        chi2, pval, n_clusters, n_subjects_per_cluster, score, median_cluster_size = np.nan, np.nan, np.nan, np.nan, np.nan, np.nan\n",
    "    else:\n",
    "        chi2, pval = chi2_contingency(contmat)[:2]\n",
    "        n_clusters = len(contmat)\n",
    "        n_subjects_per_cluster = (contmat > 0).sum(axis=1).tolist()\n",
    "        labels = mmc.index.get_level_values(1).tolist()\n",
    "        score = silhouette_score(data2mmc, labels)\n",
    "        median_cluster_size = contmat.sum(axis=1).median().astype(int)\n",
    "    if chrom == \"5qtel_1-500K_1_12_12_rc\":\n",
    "        gf.figure.get_axes()[1].set(title=\"Pairwise relative Levenshtein distances\")\n",
    "        gf.figure.get_axes()[5].set(title=\"Subjects\")\n",
    "        gf.figure.get_axes()[-1].set_title(\"   Motif densities\", loc=\"left\")\n",
    "    if chrom != \"chrX\":\n",
    "        for ax in gf.figure.get_axes()[:-1]:\n",
    "            ax.set(xticklabels=[], xlabel=None)\n",
    "        gf.figure.get_axes()[-1].set(xlabel=None)\n",
    "    gf.figure.savefig(\"PacBio/haplotypes/clusters-q_arm/\"+chrom+\".pdf\", bbox_inches=\"tight\")\n",
    "    stats.loc[chrom] = [n_clusters, median_cluster_size, score, chi2, pval, n_subjects_per_cluster]"
   ]
  },
  {
   "cell_type": "code",
   "execution_count": 314,
   "metadata": {},
   "outputs": [
    {
     "data": {
      "text/html": [
       "<div>\n",
       "<style scoped>\n",
       "    .dataframe tbody tr th:only-of-type {\n",
       "        vertical-align: middle;\n",
       "    }\n",
       "\n",
       "    .dataframe tbody tr th {\n",
       "        vertical-align: top;\n",
       "    }\n",
       "\n",
       "    .dataframe thead th {\n",
       "        text-align: right;\n",
       "    }\n",
       "</style>\n",
       "<table border=\"1\" class=\"dataframe\">\n",
       "  <thead>\n",
       "    <tr style=\"text-align: right;\">\n",
       "      <th></th>\n",
       "      <th>chromosome</th>\n",
       "      <th>contig_name</th>\n",
       "      <th>n_clusters</th>\n",
       "      <th>score</th>\n",
       "      <th>p_adjusted</th>\n",
       "    </tr>\n",
       "  </thead>\n",
       "  <tbody>\n",
       "    <tr>\n",
       "      <th>0</th>\n",
       "      <td>chr11</td>\n",
       "      <td>chr11</td>\n",
       "      <td>11</td>\n",
       "      <td>0.247582</td>\n",
       "      <td>2.472285e-81</td>\n",
       "    </tr>\n",
       "    <tr>\n",
       "      <th>5</th>\n",
       "      <td>chr12</td>\n",
       "      <td>chr12</td>\n",
       "      <td>20</td>\n",
       "      <td>0.095909</td>\n",
       "      <td>3.393734e-84</td>\n",
       "    </tr>\n",
       "    <tr>\n",
       "      <th>12</th>\n",
       "      <td>chr14</td>\n",
       "      <td>14qtel_1-500K_1_12_12_rc</td>\n",
       "      <td>20</td>\n",
       "      <td>0.097280</td>\n",
       "      <td>8.960082e-29</td>\n",
       "    </tr>\n",
       "    <tr>\n",
       "      <th>10</th>\n",
       "      <td>chr15</td>\n",
       "      <td>chr15</td>\n",
       "      <td>40</td>\n",
       "      <td>0.193553</td>\n",
       "      <td>1.450643e-121</td>\n",
       "    </tr>\n",
       "    <tr>\n",
       "      <th>3</th>\n",
       "      <td>chr18</td>\n",
       "      <td>18qtel_1-500K_1_12_12_rc</td>\n",
       "      <td>15</td>\n",
       "      <td>0.110245</td>\n",
       "      <td>4.953858e-54</td>\n",
       "    </tr>\n",
       "    <tr>\n",
       "      <th>9</th>\n",
       "      <td>chr19</td>\n",
       "      <td>chr19</td>\n",
       "      <td>10</td>\n",
       "      <td>0.047420</td>\n",
       "      <td>3.128624e-25</td>\n",
       "    </tr>\n",
       "    <tr>\n",
       "      <th>4</th>\n",
       "      <td>chr21</td>\n",
       "      <td>chr21</td>\n",
       "      <td>48</td>\n",
       "      <td>0.147068</td>\n",
       "      <td>1.382063e-157</td>\n",
       "    </tr>\n",
       "    <tr>\n",
       "      <th>1</th>\n",
       "      <td>chr22</td>\n",
       "      <td>chr22</td>\n",
       "      <td>18</td>\n",
       "      <td>0.154333</td>\n",
       "      <td>1.588720e-101</td>\n",
       "    </tr>\n",
       "    <tr>\n",
       "      <th>6</th>\n",
       "      <td>chr5</td>\n",
       "      <td>5qtel_1-500K_1_12_12_rc</td>\n",
       "      <td>51</td>\n",
       "      <td>0.114893</td>\n",
       "      <td>4.204148e-179</td>\n",
       "    </tr>\n",
       "    <tr>\n",
       "      <th>11</th>\n",
       "      <td>chr6</td>\n",
       "      <td>6qtel_1-500K_1_12_12_rc</td>\n",
       "      <td>49</td>\n",
       "      <td>0.125145</td>\n",
       "      <td>8.111914e-141</td>\n",
       "    </tr>\n",
       "    <tr>\n",
       "      <th>2</th>\n",
       "      <td>chr7</td>\n",
       "      <td>chr7</td>\n",
       "      <td>20</td>\n",
       "      <td>0.179619</td>\n",
       "      <td>4.147151e-91</td>\n",
       "    </tr>\n",
       "    <tr>\n",
       "      <th>7</th>\n",
       "      <td>chr8</td>\n",
       "      <td>chr8</td>\n",
       "      <td>20</td>\n",
       "      <td>0.222306</td>\n",
       "      <td>2.126170e-36</td>\n",
       "    </tr>\n",
       "    <tr>\n",
       "      <th>8</th>\n",
       "      <td>chrX</td>\n",
       "      <td>chrX</td>\n",
       "      <td>36</td>\n",
       "      <td>0.120560</td>\n",
       "      <td>1.586789e-32</td>\n",
       "    </tr>\n",
       "  </tbody>\n",
       "</table>\n",
       "</div>"
      ],
      "text/plain": [
       "   chromosome               contig_name n_clusters     score     p_adjusted\n",
       "0       chr11                     chr11         11  0.247582   2.472285e-81\n",
       "5       chr12                     chr12         20  0.095909   3.393734e-84\n",
       "12      chr14  14qtel_1-500K_1_12_12_rc         20  0.097280   8.960082e-29\n",
       "10      chr15                     chr15         40  0.193553  1.450643e-121\n",
       "3       chr18  18qtel_1-500K_1_12_12_rc         15  0.110245   4.953858e-54\n",
       "9       chr19                     chr19         10  0.047420   3.128624e-25\n",
       "4       chr21                     chr21         48  0.147068  1.382063e-157\n",
       "1       chr22                     chr22         18  0.154333  1.588720e-101\n",
       "6        chr5   5qtel_1-500K_1_12_12_rc         51  0.114893  4.204148e-179\n",
       "11       chr6   6qtel_1-500K_1_12_12_rc         49  0.125145  8.111914e-141\n",
       "2        chr7                      chr7         20  0.179619   4.147151e-91\n",
       "7        chr8                      chr8         20  0.222306   2.126170e-36\n",
       "8        chrX                      chrX         36  0.120560   1.586789e-32"
      ]
     },
     "execution_count": 314,
     "metadata": {},
     "output_type": "execute_result"
    }
   ],
   "source": [
    "stats[\"p_adjusted\"] = multipletests(stats[\"p\"], method=\"bonferroni\")[1]\n",
    "finalstats = stats[stats[\"p_adjusted\"]<.05].sort_values(by=\"median_cluster_size\", ascending=False).drop(columns=[\"p\", \"nspc\", \"chi2\"])\n",
    "finalstats.index.name = \"contig_name\"\n",
    "finalstats.reset_index(inplace=True)\n",
    "\n",
    "def convname(cn):\n",
    "    match = re.search(r'^\\d+', cn)\n",
    "    if match:\n",
    "        return \"chr\" + match.group()\n",
    "    else:\n",
    "        return cn\n",
    "\n",
    "finalstats.insert(0, \"chromosome\", finalstats[\"contig_name\"].apply(convname))\n",
    "finalstats = finalstats.sort_values(by=\"chromosome\")\n",
    "finalstats.iloc[:,[0,1,2,4,5]]"
   ]
  },
  {
   "cell_type": "code",
   "execution_count": 325,
   "metadata": {},
   "outputs": [
    {
     "data": {
      "text/plain": [
       "2.0"
      ]
     },
     "execution_count": 325,
     "metadata": {},
     "output_type": "execute_result"
    }
   ],
   "source": [
    "nspc = sum(stats.dropna()[\"nspc\"].tolist(), [])\n",
    "np.percentile(nspc, 100 - 66.5)"
   ]
  }
 ],
 "metadata": {
  "kernelspec": {
   "display_name": "Python 3",
   "language": "python",
   "name": "python3"
  },
  "language_info": {
   "codemirror_mode": {
    "name": "ipython",
    "version": 3
   },
   "file_extension": ".py",
   "mimetype": "text/x-python",
   "name": "python",
   "nbconvert_exporter": "python",
   "pygments_lexer": "ipython3",
   "version": "3.7.1"
  }
 },
 "nbformat": 4,
 "nbformat_minor": 2
}
