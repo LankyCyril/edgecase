{
 "cells": [
  {
   "cell_type": "code",
   "execution_count": 2,
   "metadata": {},
   "outputs": [],
   "source": [
    "import pandas as pd\n",
    "import numpy as np\n",
    "import seaborn as sns\n",
    "import re\n",
    "from matplotlib.pyplot import subplots, style, rc\n",
    "from tqdm import tqdm\n",
    "from collections import defaultdict\n",
    "from itertools import count, islice\n",
    "from functools import lru_cache"
   ]
  },
  {
   "cell_type": "code",
   "execution_count": 3,
   "metadata": {},
   "outputs": [],
   "source": [
    "style.use([\"seaborn-poster\", \"seaborn-whitegrid\"])\n",
    "rc(\"axes\", linewidth=1, edgecolor=\"black\")\n",
    "%matplotlib inline"
   ]
  },
  {
   "cell_type": "code",
   "execution_count": 19,
   "metadata": {},
   "outputs": [],
   "source": [
    "h10 = pd.read_csv(\"HG002.10kb-names.tsv\", sep=\"\\t\", names=[\"name\", \"chrom\"])\n",
    "h10[\"sample\"] = \"HG002.10kb\"\n",
    "h15 = pd.read_csv(\"HG002.15kb-names.tsv\", sep=\"\\t\", names=[\"name\", \"chrom\"])\n",
    "h15[\"sample\"] = \"HG002.15kb\"\n",
    "sample_assignment = pd.concat([h10, h15], axis=0)"
   ]
  },
  {
   "cell_type": "code",
   "execution_count": 47,
   "metadata": {},
   "outputs": [],
   "source": [
    "from glob import glob\n",
    "\n",
    "kmerscans = []\n",
    "for dat in glob(\"HG002.10kb+15kb-levenshtein-q_arm/*dat.gz\"):\n",
    "    ks = pd.read_csv(dat, sep=\"\\t\", escapechar=\"#\", usecols=(0, 2))\n",
    "    ks[\"haplotype\"] = ks[\"chrom\"].apply(lambda c: c.split(\":haplotype \")[1])\n",
    "    ks[\"chrom\"] = ks[\"chrom\"].apply(lambda c: c.split(\":haplotype \")[0])\n",
    "    kmerscans.append(ks)\n",
    "\n",
    "kmerscan = pd.concat(kmerscans, axis=0).drop_duplicates()"
   ]
  },
  {
   "cell_type": "code",
   "execution_count": 48,
   "metadata": {},
   "outputs": [
    {
     "data": {
      "text/html": [
       "<div>\n",
       "<style scoped>\n",
       "    .dataframe tbody tr th:only-of-type {\n",
       "        vertical-align: middle;\n",
       "    }\n",
       "\n",
       "    .dataframe tbody tr th {\n",
       "        vertical-align: top;\n",
       "    }\n",
       "\n",
       "    .dataframe thead th {\n",
       "        text-align: right;\n",
       "    }\n",
       "</style>\n",
       "<table border=\"1\" class=\"dataframe\">\n",
       "  <thead>\n",
       "    <tr style=\"text-align: right;\">\n",
       "      <th></th>\n",
       "      <th>name</th>\n",
       "      <th>chrom</th>\n",
       "      <th>haplotype</th>\n",
       "      <th>sample</th>\n",
       "    </tr>\n",
       "  </thead>\n",
       "  <tbody>\n",
       "    <tr>\n",
       "      <th>0</th>\n",
       "      <td>m54238_180701_114913/17892208/ccs</td>\n",
       "      <td>18qtel_1-500K_1_12_12_rc</td>\n",
       "      <td>2</td>\n",
       "      <td>HG002.10kb</td>\n",
       "    </tr>\n",
       "    <tr>\n",
       "      <th>1</th>\n",
       "      <td>m54316_180719_115850/24379831/ccs</td>\n",
       "      <td>18qtel_1-500K_1_12_12_rc</td>\n",
       "      <td>2</td>\n",
       "      <td>HG002.10kb</td>\n",
       "    </tr>\n",
       "    <tr>\n",
       "      <th>2</th>\n",
       "      <td>m54315_180714_142044/68878424/ccs</td>\n",
       "      <td>18qtel_1-500K_1_12_12_rc</td>\n",
       "      <td>1</td>\n",
       "      <td>HG002.10kb</td>\n",
       "    </tr>\n",
       "  </tbody>\n",
       "</table>\n",
       "</div>"
      ],
      "text/plain": [
       "                                name                     chrom haplotype  \\\n",
       "0  m54238_180701_114913/17892208/ccs  18qtel_1-500K_1_12_12_rc         2   \n",
       "1  m54316_180719_115850/24379831/ccs  18qtel_1-500K_1_12_12_rc         2   \n",
       "2  m54315_180714_142044/68878424/ccs  18qtel_1-500K_1_12_12_rc         1   \n",
       "\n",
       "       sample  \n",
       "0  HG002.10kb  \n",
       "1  HG002.10kb  \n",
       "2  HG002.10kb  "
      ]
     },
     "execution_count": 48,
     "metadata": {},
     "output_type": "execute_result"
    }
   ],
   "source": [
    "pd.merge(kmerscan, sample_assignment)[:3]"
   ]
  },
  {
   "cell_type": "code",
   "execution_count": 50,
   "metadata": {},
   "outputs": [],
   "source": [
    "assigner = pd.merge(kmerscan, sample_assignment).drop(columns=\"name\")\n",
    "assigner[\"count\"] = 1\n",
    "calculator = assigner.groupby([\"chrom\", \"haplotype\", \"sample\"], as_index=False).sum()\n",
    "h1 = calculator.query(\"haplotype=='1'\").pivot(index=\"chrom\", columns=\"sample\", values=\"count\").reset_index()\n",
    "h1[\"haplotype\"] = 1\n",
    "h2 = calculator.query(\"haplotype=='2'\").pivot(index=\"chrom\", columns=\"sample\", values=\"count\").reset_index()\n",
    "h2[\"haplotype\"] = 2\n",
    "\n",
    "assignment = pd.concat([h1, h2], axis=0).fillna(0)\n",
    "assignment.columns.name = None\n",
    "assignment[\"HG002.10kb\"] = assignment[\"HG002.10kb\"].astype(int)\n",
    "assignment[\"HG002.15kb\"] = assignment[\"HG002.15kb\"].astype(int)\n",
    "assignment = assignment.sort_values(by=[\"chrom\", \"haplotype\"]).iloc[:,[0,3,1,2]]\n",
    "assignment.to_csv(\"HG002.10kb+15kb-haplotype-assignment.tsv\", sep=\"\\t\", index=False)"
   ]
  }
 ],
 "metadata": {
  "kernelspec": {
   "display_name": "Python 3",
   "language": "python",
   "name": "python3"
  },
  "language_info": {
   "codemirror_mode": {
    "name": "ipython",
    "version": 3
   },
   "file_extension": ".py",
   "mimetype": "text/x-python",
   "name": "python",
   "nbconvert_exporter": "python",
   "pygments_lexer": "ipython3",
   "version": "3.7.1"
  }
 },
 "nbformat": 4,
 "nbformat_minor": 2
}
