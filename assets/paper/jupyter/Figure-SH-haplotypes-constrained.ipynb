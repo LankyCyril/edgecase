{
 "cells": [
  {
   "cell_type": "code",
   "execution_count": 1,
   "metadata": {},
   "outputs": [],
   "source": [
    "import pandas as pd\n",
    "import numpy as np\n",
    "import seaborn as sns\n",
    "import re\n",
    "from matplotlib.pyplot import subplots, style, rc, rc_context, close\n",
    "from tqdm import tqdm\n",
    "from venn import venn, pseudovenn\n",
    "from collections import defaultdict\n",
    "from itertools import count, islice\n",
    "from functools import lru_cache\n",
    "from argparse import Namespace"
   ]
  },
  {
   "cell_type": "code",
   "execution_count": 2,
   "metadata": {},
   "outputs": [],
   "source": [
    "from glob import glob\n",
    "from scipy.spatial.distance import squareform\n",
    "from scipy.cluster.hierarchy import dendrogram, fcluster, linkage\n",
    "from sklearn.metrics import silhouette_score\n",
    "from matplotlib.gridspec import GridSpec\n",
    "%matplotlib inline"
   ]
  },
  {
   "cell_type": "code",
   "execution_count": 3,
   "metadata": {},
   "outputs": [],
   "source": [
    "from scipy.cluster.hierarchy import cophenet\n",
    "from scipy.stats import pearsonr, wilcoxon"
   ]
  },
  {
   "cell_type": "code",
   "execution_count": 4,
   "metadata": {},
   "outputs": [],
   "source": [
    "from edgecaselib.formats import load_index, load_kmerscan\n",
    "from edgecaselib.densityplot import interpret_arguments\n",
    "from edgecaselib.util import natsorted_chromosomes\n",
    "from pickle import dump, load\n",
    "from os import path\n",
    "from tempfile import NamedTemporaryFile\n",
    "from subprocess import check_output, CalledProcessError\n",
    "from pysam import AlignmentFile\n",
    "from scipy.stats import chi2_contingency\n",
    "from statsmodels.stats.multitest import multipletests\n",
    "from scipy.ndimage import uniform_filter1d\n",
    "from matplotlib.patches import FancyArrowPatch, Rectangle\n",
    "from matplotlib.lines import Line2D"
   ]
  },
  {
   "cell_type": "code",
   "execution_count": 5,
   "metadata": {},
   "outputs": [],
   "source": [
    "SAMFILTERS = [\"is_q|tract_anchor\", 3844, 0]\n",
    "ecx = load_index(\"assets/hg38ext.fa.ecx\")"
   ]
  },
  {
   "cell_type": "code",
   "execution_count": 6,
   "metadata": {},
   "outputs": [],
   "source": [
    "SUBJECT_TO_TRIO = {\n",
    "    \"HG001\": \"NA12878\",\n",
    "    \"HG002\": \"AshkenazimTrio\", \"HG003\": \"AshkenazimTrio\", \"HG004\": \"AshkenazimTrio\",\n",
    "    \"HG005\": \"ChineseTrio\", \"HG006\": \"ChineseTrio\", \"HG007\": \"ChineseTrio\",\n",
    "}"
   ]
  },
  {
   "cell_type": "code",
   "execution_count": 7,
   "metadata": {},
   "outputs": [],
   "source": [
    "RAW_GLOBAL_LDS = {\n",
    "    re.sub(r'-matrix\\.tsv$', \"\", filename.split(\"/\")[-1]): pd.read_csv(filename, sep=\"\\t\", index_col=0)\n",
    "    for filename in glob(\"PacBio/haplotypes/levenshtein-q_arm/*-matrix.tsv\")\n",
    "}"
   ]
  },
  {
   "cell_type": "code",
   "execution_count": 8,
   "metadata": {},
   "outputs": [],
   "source": [
    "KMERSCANNER_PKL = \"PacBio/kmerscanner-q_arm.pkl\"\n",
    "KMERSCANNER_DAT = \"PacBio/kmerscanner-q_arm.dat.gz\"\n",
    "\n",
    "if path.isfile(KMERSCANNER_PKL):\n",
    "    with open(KMERSCANNER_PKL, mode=\"rb\") as pkl:\n",
    "        DENSITIES = load(pkl)\n",
    "else:\n",
    "    DENSITIES = load_kmerscan(KMERSCANNER_DAT, True, SAMFILTERS, 10)\n",
    "    with open(KMERSCANNER_PKL, mode=\"wb\") as pkl:\n",
    "        dump(DENSITIES, pkl)"
   ]
  },
  {
   "cell_type": "code",
   "execution_count": 9,
   "metadata": {},
   "outputs": [],
   "source": [
    "MAXLEN = 1700"
   ]
  },
  {
   "cell_type": "code",
   "execution_count": 10,
   "metadata": {},
   "outputs": [],
   "source": [
    "class GridFig():\n",
    "\n",
    "    def __init__(self, width_ratios, height_ratios, scale=1):\n",
    "        self.figure, _ = subplots(\n",
    "            figsize=(sum(width_ratios)*scale, sum(height_ratios)*scale),\n",
    "            ncols=0, nrows=0,\n",
    "        )\n",
    "        self.gs = GridSpec(\n",
    "            ncols=len(width_ratios), wspace=0, width_ratios=width_ratios, \n",
    "            nrows=len(height_ratios), hspace=0, height_ratios=height_ratios,\n",
    "            figure=self.figure,\n",
    "        )\n",
    " \n",
    "    def subplot(self, gridspec_slice, aspect=\"auto\", frame=False):\n",
    "        ax = self.figure.add_subplot(gridspec_slice, aspect=aspect)\n",
    "        if frame is False:\n",
    "            ax.set(frame_on=False)\n",
    "        else:\n",
    "            for spine in {\"top\", \"right\", \"bottom\", \"left\"} - set(frame):\n",
    "                ax.spines[spine].set_visible(False)\n",
    "        return ax"
   ]
  },
  {
   "cell_type": "code",
   "execution_count": 11,
   "metadata": {},
   "outputs": [],
   "source": [
    "def plot_dendrogram(Z, gf):\n",
    "    ax = gf.subplot(gf.gs[0,0])\n",
    "    with rc_context({\"lines.linewidth\": .5}):\n",
    "        dendrogram(\n",
    "            Z, orientation=\"left\",\n",
    "            link_color_func=lambda x: \"black\", ax=ax,\n",
    "        )\n",
    "    ax.set(\n",
    "        xticks=[], xlabel=None,\n",
    "        yticks=[], ylabel=None,\n",
    "        ylim=ax.get_ylim()[::-1],\n",
    "    )"
   ]
  },
  {
   "cell_type": "code",
   "execution_count": 12,
   "metadata": {},
   "outputs": [],
   "source": [
    "def plot_heatmap(data2d, gf, cmap=\"gray_r\", vmax=.15):\n",
    "    ax = gf.subplot(gf.gs[0,1])\n",
    "    sns.heatmap(data2d, cmap=cmap, cbar=False, vmin=0, vmax=vmax, ax=ax)\n",
    "    ax.set(xticks=[], yticks=[], xlabel=None, ylabel=None)"
   ]
  },
  {
   "cell_type": "code",
   "execution_count": 13,
   "metadata": {},
   "outputs": [],
   "source": [
    "def get_plottable_density_section(densities, chrom, motif, data2d, ecx):\n",
    "    chrom_densities = densities[chrom]\n",
    "    if motif is None:\n",
    "        by_motif = chrom_densities[chrom_densities[\"motif\"]==\"TTAGGG\"]\n",
    "    else:\n",
    "        by_motif = chrom_densities[chrom_densities[\"motif\"]==motif]\n",
    "    section = by_motif.set_index(\"name\").reindex(data2d.index).iloc[:,8:].copy()\n",
    "    if motif is None:\n",
    "        section = (~section.isnull()).astype(int) / 3\n",
    "    section.columns = section.columns.astype(int)\n",
    "    anchor = ecx.loc[\n",
    "        (ecx[\"rname\"]==chrom) & (ecx[\"flag\"]==0x4000) & (ecx[\"prime\"]==3),\n",
    "        \"pos\",\n",
    "    ].iloc[0]\n",
    "    return section[[c for c in section.columns if c>=anchor]]"
   ]
  },
  {
   "cell_type": "code",
   "execution_count": 14,
   "metadata": {},
   "outputs": [],
   "source": [
    "def get_absentees(lds, densities, chrom, ecx):\n",
    "    raw_section = get_plottable_density_section(densities, chrom, \"TTAGGG\", lds, ecx)\n",
    "    nulls = raw_section.isnull().all(axis=1)\n",
    "    return nulls[nulls].index"
   ]
  },
  {
   "cell_type": "code",
   "execution_count": 15,
   "metadata": {},
   "outputs": [],
   "source": [
    "def section_to_RGB(ps, color, alpha_factor=1.2):\n",
    "    return np.transpose(\n",
    "        np.array([\n",
    "            np.full_like(ps, color[0]),\n",
    "            np.full_like(ps, color[1]),\n",
    "            np.full_like(ps, color[2]),\n",
    "            np.clip(ps*alpha_factor, a_min=None, a_max=1),\n",
    "        ]),\n",
    "        axes=(1, 2, 0),\n",
    "    )"
   ]
  },
  {
   "cell_type": "code",
   "execution_count": 16,
   "metadata": {},
   "outputs": [],
   "source": [
    "def draw_fancy_arrow(\n",
    "    y, start, end, ax, lw=.25,\n",
    "    csty=\"angle3,angleA=45,angleB=-45\",\n",
    "    asty=\"Simple, tail_width=.25, head_width=2, head_length=3\"\n",
    "):\n",
    "    ax.add_patch(FancyArrowPatch(\n",
    "        (start, y), (end, y),\n",
    "        connectionstyle=csty,\n",
    "        arrowstyle=asty,\n",
    "        lw=lw, color=\"#888\", clip_on=False,\n",
    "    ))"
   ]
  },
  {
   "cell_type": "code",
   "execution_count": 17,
   "metadata": {},
   "outputs": [],
   "source": [
    "POPULATION_COLORS = {\n",
    "    \"HG001\": \"black\",\n",
    "    \"HG002\": \"green\", \"HG003\": \"green\", \"HG004\": \"green\",\n",
    "    \"HG005\": \"steelblue\", \"HG006\": \"steelblue\", \"HG007\": \"steelblue\",\n",
    "}\n",
    "\n",
    "def plot_subjects(dispatcher, gf, s=10, arrows=True):\n",
    "    for i, subject in enumerate(sorted(SUBJECT_TO_TRIO)):\n",
    "        sax = gf.subplot(gf.gs[0,i+3])\n",
    "        sax.plot([0, 0], [0, len(dispatcher)], lw=.5, color=\"#888\")\n",
    "        if subject in dispatcher:\n",
    "            truthiness = dispatcher[subject].reset_index(drop=True)\n",
    "            positions = truthiness[truthiness].index\n",
    "            for x in [-.1, 0, .1]:\n",
    "                sax.scatter(x=[x]*len(positions), y=positions, marker=\"_\", s=s, color=POPULATION_COLORS[subject])\n",
    "        sax.set(\n",
    "            xticks=[0], xticklabels=[subject+\" \"],\n",
    "            yticks=[], xlabel=None, ylabel=None,\n",
    "            xlim=(-.5, .5),\n",
    "            ylim=(len(dispatcher), -1),\n",
    "        )\n",
    "        for tick in sax.get_xticklabels():\n",
    "            tick.set_rotation(90)\n",
    "        if arrows and (subject in {\"HG002\", \"HG005\"}):\n",
    "            draw_fancy_arrow(len(dispatcher), 1, 0, sax)\n",
    "            draw_fancy_arrow(len(dispatcher), 2, 0, sax)\n",
    "        sax.tick_params(axis=\"both\", which=\"both\", length=0)"
   ]
  },
  {
   "cell_type": "code",
   "execution_count": 18,
   "metadata": {},
   "outputs": [],
   "source": [
    "IMSHOW_PALETTE = {\n",
    "    None: [.7, .7, .7],\n",
    "    \"TTAGGG\": [.1, .5, .2],\n",
    "    \"TGAGGG\": [1, 1, 0],\n",
    "    \"TTGGGG\": [.6, .27, .5],\n",
    "    \"TTAGGGG\": [.5, .9, 1],\n",
    "}\n",
    "\n",
    "def plot_densities(densities, chrom, data2d, ecx, gf, extent, bin_size=100):\n",
    "    ax = gf.subplot(gf.gs[0,-1])\n",
    "    for motif, color in IMSHOW_PALETTE.items():\n",
    "        ps = get_plottable_density_section(densities, chrom, motif, data2d, ecx).values\n",
    "        breakat = ps.shape[1]//100\n",
    "        if ps.shape[1] < MAXLEN:\n",
    "            ps = np.pad(ps, ((0, 0), (0, MAXLEN-ps.shape[1])))\n",
    "        pa = section_to_RGB(np.clip(uniform_filter1d(ps, 5, 1), a_min=0.0, a_max=1.0), color, 1.5)\n",
    "        ax.imshow(pa, extent=extent, interpolation=\"nearest\")\n",
    "    ticklabels=np.linspace(0, MAXLEN//100, MAXLEN//100+1).astype(int).astype(str)\n",
    "    ticklabels[breakat+1:] = \"\"\n",
    "    xmin, xmax = extent[:2]\n",
    "    ax.set(\n",
    "        xticks=np.linspace(xmin, xmax, MAXLEN//100+1),\n",
    "        xticklabels=ticklabels,\n",
    "        xlabel=\"Kbp of telomeric tract\",\n",
    "        yticks=[], ylabel=None,\n",
    "    )\n",
    "    ax.tick_params(axis=\"both\", which=\"both\", length=0)\n",
    "    ax.axhline(0, 0, (breakat+1)/len(ticklabels), lw=.5, c=\"black\")"
   ]
  },
  {
   "cell_type": "code",
   "execution_count": 19,
   "metadata": {},
   "outputs": [],
   "source": [
    "@lru_cache(maxsize=None)\n",
    "def convname(cn):\n",
    "    match = re.search(r'^\\d+', cn)\n",
    "    if match:\n",
    "        return \"chr\" + match.group()\n",
    "    else:\n",
    "        return cn"
   ]
  },
  {
   "cell_type": "code",
   "execution_count": 20,
   "metadata": {},
   "outputs": [],
   "source": [
    "def fixup_labels(gf, chrom, subject):\n",
    "    if (chrom == \"5qtel_1-500K_1_12_12_rc\") and (subject == \"HG001\"):\n",
    "        gf.figure.get_axes()[1].set_title(\"Pairwise relative Levenshtein distances   \", loc=\"right\", fontsize=15)\n",
    "        gf.figure.get_axes()[5].set_title(\"Subjects\", fontsize=15)\n",
    "        gf.figure.get_axes()[-1].set_title(\"   Motif densities\", loc=\"left\", fontsize=15)\n",
    "    if (chrom != \"chrX\") or (subject != \"HG007\"):\n",
    "        for ax in gf.figure.get_axes()[:-1]:\n",
    "            ax.set(xticklabels=[], xlabel=None)\n",
    "        gf.figure.get_axes()[-1].set(xlabel=None)"
   ]
  },
  {
   "cell_type": "code",
   "execution_count": 21,
   "metadata": {
    "scrolled": false
   },
   "outputs": [
    {
     "name": "stderr",
     "output_type": "stream",
     "text": [
      "100%|██████████| 18/18 [00:19<00:00,  1.06s/it]\n"
     ]
    }
   ],
   "source": [
    "for chrom in tqdm(RAW_GLOBAL_LDS):\n",
    "    lds = RAW_GLOBAL_LDS[chrom].copy()\n",
    "    absentees = get_absentees(lds, DENSITIES, chrom, ecx)\n",
    "    lds.drop(index=absentees, columns=absentees, inplace=True)\n",
    "    constrainer = pd.DataFrame(\n",
    "        index=lds.index, columns=[\"subject\"],\n",
    "        data=lds.index.map(lambda s: s.split(\":\")[1])\n",
    "    ).sort_values(by=\"subject\")\n",
    "    for subject in constrainer[\"subject\"].drop_duplicates():\n",
    "        try:\n",
    "            subject_index = constrainer[constrainer[\"subject\"]==subject].index\n",
    "            subject_lds = lds.loc[subject_index, subject_index]\n",
    "            subject_Z = linkage(squareform(subject_lds), metric=\"euclidean\", method=\"ward\", optimal_ordering=True)\n",
    "            subject_leaves = dendrogram(subject_Z, no_plot=True)[\"leaves\"]\n",
    "            subject_data2d = subject_lds.iloc[subject_leaves, subject_leaves]\n",
    "            dispatcher = pd.DataFrame(index=subject_index)\n",
    "            dispatcher.index.name = \"read\"\n",
    "            to_subject = dispatcher.index.map(lambda s: s.split(\":\")[1])\n",
    "            for subject in sorted(to_subject.drop_duplicates()):\n",
    "                dispatcher[subject] = (to_subject==subject)\n",
    "            h = 6*len(subject_lds)/200\n",
    "            w = 30\n",
    "            gf = GridFig([h/3,h,.3]+[.5]*7+[w], [h], scale=.4)\n",
    "            plot_dendrogram(subject_Z, gf=gf)\n",
    "            plot_heatmap(subject_data2d, gf=gf)\n",
    "            plot_subjects(dispatcher, gf=gf, s=7, arrows=(subject==\"HG007\"))\n",
    "            plot_densities(DENSITIES, chrom, subject_data2d, ecx, gf=gf, extent=[0,w,0,h])\n",
    "            fixup_labels(gf, chrom, subject)\n",
    "            if subject != \"HG007\":\n",
    "                gf.figure.get_axes()[-1].set(xticks=[])\n",
    "        except ValueError: # too few observations\n",
    "            continue\n",
    "        gf.figure.savefig(\n",
    "            \"PacBio/haplotypes/clusters-q_arm/constrained/\"+chrom+\"-\"+subject+\".pdf\", bbox_inches=\"tight\", pad_inches=0,\n",
    "        )\n",
    "        close(gf.figure)"
   ]
  }
 ],
 "metadata": {
  "kernelspec": {
   "display_name": "Python 3",
   "language": "python",
   "name": "python3"
  },
  "language_info": {
   "codemirror_mode": {
    "name": "ipython",
    "version": 3
   },
   "file_extension": ".py",
   "mimetype": "text/x-python",
   "name": "python",
   "nbconvert_exporter": "python",
   "pygments_lexer": "ipython3",
   "version": "3.7.1"
  }
 },
 "nbformat": 4,
 "nbformat_minor": 2
}
