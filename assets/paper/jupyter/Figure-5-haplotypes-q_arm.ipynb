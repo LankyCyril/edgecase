{
 "cells": [
  {
   "cell_type": "code",
   "execution_count": null,
   "metadata": {},
   "outputs": [],
   "source": [
    "import pandas as pd\n",
    "import numpy as np\n",
    "import seaborn as sns\n",
    "import re\n",
    "from matplotlib.pyplot import subplots, style, rc, rc_context, close\n",
    "from tqdm import tqdm\n",
    "from venn import venn, pseudovenn\n",
    "from collections import defaultdict\n",
    "from itertools import count, islice\n",
    "from functools import lru_cache\n",
    "from argparse import Namespace"
   ]
  },
  {
   "cell_type": "code",
   "execution_count": null,
   "metadata": {},
   "outputs": [],
   "source": [
    "from scipy.spatial.distance import squareform\n",
    "from scipy.cluster.hierarchy import dendrogram, fcluster, linkage\n",
    "from sklearn.metrics import silhouette_score\n",
    "from matplotlib.gridspec import GridSpec\n",
    "%matplotlib inline"
   ]
  },
  {
   "cell_type": "code",
   "execution_count": null,
   "metadata": {},
   "outputs": [],
   "source": [
    "from scipy.cluster.hierarchy import cophenet\n",
    "from scipy.stats import pearsonr, wilcoxon"
   ]
  },
  {
   "cell_type": "code",
   "execution_count": null,
   "metadata": {},
   "outputs": [],
   "source": [
    "from edgecaselib.formats import load_index, load_kmerscan\n",
    "from edgecaselib.densityplot import interpret_arguments\n",
    "from edgecaselib.util import natsorted_chromosomes\n",
    "from pickle import dump, load\n",
    "from os import path\n",
    "from tempfile import NamedTemporaryFile\n",
    "from subprocess import check_output, CalledProcessError\n",
    "from pysam import AlignmentFile\n",
    "from scipy.stats import chi2_contingency\n",
    "from statsmodels.stats.multitest import multipletests\n",
    "from scipy.ndimage import uniform_filter1d\n",
    "from matplotlib.patches import FancyArrowPatch, Rectangle\n",
    "from matplotlib.lines import Line2D"
   ]
  },
  {
   "cell_type": "code",
   "execution_count": null,
   "metadata": {},
   "outputs": [],
   "source": [
    "def wilcoxon_dropna(df, a, b):\n",
    "    dfnona = df[[a, b]].dropna()\n",
    "    try:\n",
    "        yes = sum(dfnona[a] < dfnona[b])\n",
    "        no = sum(dfnona[a] > dfnona[b])\n",
    "        p = wilcoxon(dfnona[a], dfnona[b])[1]\n",
    "        return yes, no, p\n",
    "    except ValueError:\n",
    "        return np.nan, np.nan, np.nan"
   ]
  },
  {
   "cell_type": "code",
   "execution_count": null,
   "metadata": {},
   "outputs": [],
   "source": [
    "SAMFILTERS = [[\"is_q\", \"tract_anchor\"], 0, 0]\n",
    "ecx = load_index(\"../../hg38ext.fa.ecx\")"
   ]
  },
  {
   "cell_type": "code",
   "execution_count": null,
   "metadata": {},
   "outputs": [],
   "source": [
    "SUBJECT_TO_TRIO = {\n",
    "    \"HG001\": \"NA12878\",\n",
    "    \"HG002\": \"AshkenazimTrio\", \"HG003\": \"AshkenazimTrio\", \"HG004\": \"AshkenazimTrio\",\n",
    "    \"HG005\": \"ChineseTrio\", \"HG006\": \"ChineseTrio\", \"HG007\": \"ChineseTrio\",\n",
    "}\n",
    "Q_CHROMS = [\"chr7\", \"chr8\", \"chr11\", \"chr12\", \"14qtel_1-500K_1_12_12_rc\", \"chr15\", \"18qtel_1-500K_1_12_12_rc\"]\n",
    "MAXLEN = 1600\n",
    "DATA_DIR = \"../../../data/datasets/2021\""
   ]
  },
  {
   "cell_type": "code",
   "execution_count": null,
   "metadata": {},
   "outputs": [],
   "source": [
    "def squarify(narrowform):\n",
    "    triu_fillna = narrowform.pivot(index=\"qname1\", columns=\"qname2\", values=\"relative_ld\").fillna(0)\n",
    "    return triu_fillna.T + triu_fillna\n",
    "\n",
    "distances_narrowform = pd.read_csv(f\"{DATA_DIR}/PacBio/haplotypes/levenshtein-q_arm.tsv\", sep=\"\\t\", escapechar=\"#\")\n",
    "\n",
    "RAW_GLOBAL_LDS = {\n",
    "    rname: squarify(distances_narrowform[distances_narrowform[\"rname\"]==rname].drop(columns=\"rname\"))\n",
    "    for rname in distances_narrowform[\"rname\"].drop_duplicates()\n",
    "    if rname in Q_CHROMS\n",
    "}"
   ]
  },
  {
   "cell_type": "code",
   "execution_count": null,
   "metadata": {},
   "outputs": [],
   "source": [
    "KMERSCANNER_PKL = f\"{DATA_DIR}/PacBio/kmerscanner-q_arm.pkl\"\n",
    "KMERSCANNER_DAT = f\"{DATA_DIR}/PacBio/kmerscanner-q_arm.dat.gz\"\n",
    "\n",
    "if path.isfile(KMERSCANNER_PKL):\n",
    "    with open(KMERSCANNER_PKL, mode=\"rb\") as pkl:\n",
    "        DENSITIES = load(pkl)\n",
    "else:\n",
    "    DENSITIES = load_kmerscan(KMERSCANNER_DAT, True, SAMFILTERS, 10)\n",
    "    with open(KMERSCANNER_PKL, mode=\"wb\") as pkl:\n",
    "        dump(DENSITIES, pkl)"
   ]
  },
  {
   "cell_type": "code",
   "execution_count": null,
   "metadata": {},
   "outputs": [],
   "source": [
    "class GridFig():\n",
    "\n",
    "    def __init__(self, width_ratios, height_ratios, scale=1):\n",
    "        self.figure, _ = subplots(\n",
    "            figsize=(sum(width_ratios)*scale, sum(height_ratios)*scale),\n",
    "            ncols=0, nrows=0,\n",
    "        )\n",
    "        self.gs = GridSpec(\n",
    "            ncols=len(width_ratios), wspace=0, width_ratios=width_ratios, \n",
    "            nrows=len(height_ratios), hspace=0, height_ratios=height_ratios,\n",
    "            figure=self.figure,\n",
    "        )\n",
    " \n",
    "    def subplot(self, gridspec_slice, aspect=\"auto\", frame=False):\n",
    "        ax = self.figure.add_subplot(gridspec_slice, aspect=aspect)\n",
    "        if frame is False:\n",
    "            ax.set(frame_on=False)\n",
    "        else:\n",
    "            for spine in {\"top\", \"right\", \"bottom\", \"left\"} - set(frame):\n",
    "                ax.spines[spine].set_visible(False)\n",
    "        return ax"
   ]
  },
  {
   "cell_type": "code",
   "execution_count": null,
   "metadata": {},
   "outputs": [],
   "source": [
    "def plot_dendrogram(Z, gf):\n",
    "    ax = gf.subplot(gf.gs[0,0])\n",
    "    with rc_context({\"lines.linewidth\": .5}):\n",
    "        dendrogram(\n",
    "            Z, orientation=\"left\",\n",
    "            link_color_func=lambda x: \"black\", ax=ax,\n",
    "        )\n",
    "    ax.set(\n",
    "        xticks=[], xlabel=None,\n",
    "        yticks=[], ylabel=None,\n",
    "        ylim=ax.get_ylim()[::-1],\n",
    "    )"
   ]
  },
  {
   "cell_type": "code",
   "execution_count": null,
   "metadata": {},
   "outputs": [],
   "source": [
    "def plot_heatmap(data2d, gf, cmap=\"gray_r\", vmax=.15):\n",
    "    ax = gf.subplot(gf.gs[0,1])\n",
    "    sns.heatmap(data2d, cmap=cmap, cbar=False, vmin=0, vmax=vmax, ax=ax)\n",
    "    ax.set(xticks=[], yticks=[], xlabel=None, ylabel=None)"
   ]
  },
  {
   "cell_type": "code",
   "execution_count": null,
   "metadata": {},
   "outputs": [],
   "source": [
    "def cluster(lds, metric=\"correlation\", method=\"ward\"):\n",
    "    Z = linkage(squareform(lds), metric=metric, method=method, optimal_ordering=False)\n",
    "    leaves = dendrogram(Z, no_plot=True)[\"leaves\"]\n",
    "    data2d = lds.iloc[leaves, leaves].copy()\n",
    "    dispatcher = pd.DataFrame(index=data2d.index)\n",
    "    dispatcher.index.name = \"read\"\n",
    "    to_subject = dispatcher.index.map(lambda s: s.split(\":\")[1])\n",
    "    for subject in sorted(to_subject.drop_duplicates()):\n",
    "        dispatcher[subject] = (to_subject==subject)\n",
    "    return Z, data2d, dispatcher"
   ]
  },
  {
   "cell_type": "code",
   "execution_count": null,
   "metadata": {},
   "outputs": [],
   "source": [
    "def get_plottable_density_section(densities, chrom, motif, data2d, ecx):\n",
    "    chrom_densities = densities[chrom]\n",
    "    if motif is None:\n",
    "        by_motif = chrom_densities[chrom_densities[\"motif\"]==\"TTAGGG\"]\n",
    "    else:\n",
    "        by_motif = chrom_densities[chrom_densities[\"motif\"]==motif]\n",
    "    section = by_motif.set_index(\"name\").reindex(data2d.index).iloc[:,8:].copy()\n",
    "    if motif is None:\n",
    "        section = (~section.isnull()).astype(int) / 3\n",
    "    section.columns = section.columns.astype(int)\n",
    "    anchor = ecx.loc[\n",
    "        (ecx[\"rname\"]==chrom) & (ecx[\"flag\"]==0x4000) & (ecx[\"prime\"]==3),\n",
    "        \"pos\",\n",
    "    ].iloc[0]\n",
    "    return section[[c for c in section.columns if c>=anchor]]"
   ]
  },
  {
   "cell_type": "code",
   "execution_count": null,
   "metadata": {},
   "outputs": [],
   "source": [
    "def get_absentees(lds, densities, chrom, ecx):\n",
    "    raw_section = get_plottable_density_section(densities, chrom, \"TTAGGG\", lds, ecx)\n",
    "    nulls = raw_section.isnull().all(axis=1)\n",
    "    return nulls[nulls].index"
   ]
  },
  {
   "cell_type": "code",
   "execution_count": null,
   "metadata": {},
   "outputs": [],
   "source": [
    "def section_to_RGB(ps, color, alpha_factor=1.2):\n",
    "    return np.transpose(\n",
    "        np.array([\n",
    "            np.full_like(ps, color[0]),\n",
    "            np.full_like(ps, color[1]),\n",
    "            np.full_like(ps, color[2]),\n",
    "            np.clip(ps*alpha_factor, a_min=None, a_max=1),\n",
    "        ]),\n",
    "        axes=(1, 2, 0),\n",
    "    )"
   ]
  },
  {
   "cell_type": "code",
   "execution_count": null,
   "metadata": {},
   "outputs": [],
   "source": [
    "def draw_fancy_arrow(\n",
    "    y, start, end, ax, lw=.25,\n",
    "    csty=\"angle3,angleA=45,angleB=-45\",\n",
    "    asty=\"Simple, tail_width=.25, head_width=2, head_length=3\"\n",
    "):\n",
    "    ax.add_patch(FancyArrowPatch(\n",
    "        (start, y), (end, y),\n",
    "        connectionstyle=csty,\n",
    "        arrowstyle=asty,\n",
    "        lw=lw, color=\"#888\", clip_on=False,\n",
    "    ))"
   ]
  },
  {
   "cell_type": "code",
   "execution_count": null,
   "metadata": {},
   "outputs": [],
   "source": [
    "POPULATION_COLORS = {\n",
    "    \"HG001\": \"black\",\n",
    "    \"HG002\": \"green\", \"HG003\": \"green\", \"HG004\": \"green\",\n",
    "    \"HG005\": \"steelblue\", \"HG006\": \"steelblue\", \"HG007\": \"steelblue\",\n",
    "}\n",
    "\n",
    "def plot_subjects(dispatcher, gf, s=10):\n",
    "    for i, subject in enumerate(sorted(SUBJECT_TO_TRIO)):\n",
    "        sax = gf.subplot(gf.gs[0,i+3])\n",
    "        sax.plot([0, 0], [0, len(dispatcher)], lw=.5, color=\"#888\")\n",
    "        if subject in dispatcher:\n",
    "            truthiness = dispatcher[subject].reset_index(drop=True)\n",
    "            positions = truthiness[truthiness].index\n",
    "            for x in [-.1, 0, .1]:\n",
    "                sax.scatter(x=[x]*len(positions), y=positions, marker=\"_\", s=s, color=POPULATION_COLORS[subject])\n",
    "        sax.set(\n",
    "            xticks=[0], xticklabels=[subject+\"  \"],\n",
    "            yticks=[], xlabel=None, ylabel=None,\n",
    "            xlim=(-.5, .5),\n",
    "            ylim=(len(dispatcher), -1),\n",
    "        )\n",
    "        for tick in sax.get_xticklabels():\n",
    "            tick.set_rotation(90)\n",
    "        if subject in {\"HG002\", \"HG005\"}:\n",
    "            draw_fancy_arrow(len(dispatcher), 1, 0, sax)\n",
    "            draw_fancy_arrow(len(dispatcher), 2, 0, sax)\n",
    "        sax.tick_params(axis=\"both\", which=\"both\", length=0)"
   ]
  },
  {
   "cell_type": "code",
   "execution_count": null,
   "metadata": {},
   "outputs": [],
   "source": [
    "IMSHOW_PALETTE = {\n",
    "    None: [.7, .7, .7],\n",
    "    \"TTAGGG\": [.0, .4, .1],\n",
    "    \"TGAGGG\": [1, 1, 0],\n",
    "    \"TTAGGGG\": [.5, .9, 1],\n",
    "}\n",
    "\n",
    "def plot_densities(densities, chrom, data2d, ecx, gf, extent, bin_size=100):\n",
    "    ax = gf.subplot(gf.gs[0,-1])\n",
    "    for motif, color in IMSHOW_PALETTE.items():\n",
    "        ps = get_plottable_density_section(densities, chrom, motif, data2d, ecx).values\n",
    "        breakat = MAXLEN // 100\n",
    "        orig_len = ps.shape[1]\n",
    "        if ps.shape[1] < MAXLEN:\n",
    "            ps = np.pad(ps, ((0, 0), (0, MAXLEN-ps.shape[1])))\n",
    "        elif ps.shape[1] > MAXLEN:\n",
    "            ps = ps[:,:MAXLEN]\n",
    "        pa = section_to_RGB(np.clip(uniform_filter1d(ps, 5, 1), a_min=0.0, a_max=1.0), color, 1.5)\n",
    "        ax.imshow(pa, extent=extent, interpolation=\"nearest\")\n",
    "    ticklabels=np.linspace(0, MAXLEN//100, MAXLEN//100+1).astype(int).astype(str)\n",
    "    fullaxislen = len(ticklabels)\n",
    "    ticklabels = ticklabels[:breakat+1]\n",
    "    xmin, xmax = extent[:2]\n",
    "    ax.set(\n",
    "        xticks=np.linspace(xmin, xmax, MAXLEN//100+1)[:breakat+1],\n",
    "        xticklabels=ticklabels,\n",
    "        xlabel=\"Kbp of telomeric tract\",\n",
    "        yticks=[], ylabel=None,\n",
    "    )\n",
    "    ax.tick_params(axis=\"both\", which=\"both\", length=0)\n",
    "    ax.tick_params(axis=\"x\", which=\"both\", length=3)\n",
    "    ax.axhline(0, 0, (breakat+1)/fullaxislen, lw=1, c=\"black\")"
   ]
  },
  {
   "cell_type": "code",
   "execution_count": null,
   "metadata": {},
   "outputs": [],
   "source": [
    "@lru_cache(maxsize=None)\n",
    "def convname(cn):\n",
    "    match = re.search(r'^\\d+', cn)\n",
    "    if match:\n",
    "        return match.group() + \"q\"\n",
    "    else:\n",
    "        return cn.split(\"chr\")[1] + \"q\""
   ]
  },
  {
   "cell_type": "code",
   "execution_count": null,
   "metadata": {},
   "outputs": [],
   "source": [
    "def process_lds(raw_global_lds, chrom, densities, ecx, no_plot=False, scale=.2):\n",
    "    lds = raw_global_lds[chrom].copy()\n",
    "    absentees = get_absentees(lds, densities, chrom, ecx)\n",
    "    lds.drop(index=absentees, columns=absentees, inplace=True)\n",
    "    Z, data2d, dispatcher = cluster(lds, metric=\"euclidean\", method=\"ward\")\n",
    "    if no_plot:\n",
    "        gf = None\n",
    "    else:\n",
    "        h = 6*len(lds)/50\n",
    "        w = 30\n",
    "        gf = GridFig([h/3,h,.3]+[.85]*7+[w], [h], scale=scale)\n",
    "        plot_dendrogram(Z, gf=gf)\n",
    "        plot_heatmap(data2d, gf=gf)\n",
    "        plot_subjects(dispatcher, gf=gf, s=7)\n",
    "        plot_densities(densities, chrom, data2d, ecx, gf=gf, extent=[0,w,0,h])\n",
    "        if len(chrom) > 11:\n",
    "            name = \"{} ({})\".format(convname(chrom), chrom[:6]+\"…\")\n",
    "        else:\n",
    "            name = \"{} ({})\".format(convname(chrom), chrom)\n",
    "        gf.figure.get_axes()[0].set_ylabel(name, fontsize=13)\n",
    "    return lds, Z, data2d, dispatcher, gf"
   ]
  },
  {
   "cell_type": "code",
   "execution_count": null,
   "metadata": {},
   "outputs": [],
   "source": [
    "def cophenetic_correlation(lds, Z):\n",
    "    r, p = pearsonr(squareform(lds), cophenet(Z))\n",
    "    return r, max(p, 5e-324) # p-value of zero is just a rounding issue"
   ]
  },
  {
   "cell_type": "code",
   "execution_count": null,
   "metadata": {},
   "outputs": [],
   "source": [
    "def fixup_labels(gf, chrom):\n",
    "    if chrom == \"chr7\":\n",
    "        gf.figure.get_axes()[1].set_title(\"Pairwise relative\\nLevenshtein distances\", fontsize=13, loc=\"right\")\n",
    "        gf.figure.get_axes()[5].set_title(\"Subjects\", fontsize=13)\n",
    "        gf.figure.get_axes()[-1].set_title(\"Motif densities\", loc=\"left\", fontsize=13)\n",
    "    if chrom != \"18qtel_1-500K_1_12_12_rc\":\n",
    "        for ax in gf.figure.get_axes()[:-1]:\n",
    "            ax.set(xticklabels=[], xlabel=None)\n",
    "        gf.figure.get_axes()[-1].set(xlabel=None)"
   ]
  },
  {
   "cell_type": "code",
   "execution_count": null,
   "metadata": {},
   "outputs": [],
   "source": [
    "read_to_category = lambda dispatcher, pos: pd.Series(\n",
    "    index=dispatcher.index,\n",
    "    data=dispatcher.index.map(lambda s: s.split(\":\")[pos])\n",
    ")"
   ]
  },
  {
   "cell_type": "code",
   "execution_count": null,
   "metadata": {},
   "outputs": [],
   "source": [
    "def count_subtrees(dispatcher):\n",
    "    read_to_trio = read_to_category(dispatcher, 0)\n",
    "    running_trio = None\n",
    "    trio_runs = defaultdict(int)\n",
    "    run = 0\n",
    "    for trio in read_to_trio:\n",
    "        if trio != running_trio:\n",
    "            if run:\n",
    "                trio_runs[running_trio] += 1\n",
    "            running_trio, run = trio, 1\n",
    "        else:\n",
    "            run += 1\n",
    "    if run:\n",
    "        trio_runs[running_trio] += 1\n",
    "    return trio_runs"
   ]
  },
  {
   "cell_type": "code",
   "execution_count": null,
   "metadata": {},
   "outputs": [],
   "source": [
    "reindex_to = lambda row, rtc, cat: row.reindex(rtc[rtc==cat].index).dropna()\n",
    "reindex_in = lambda row, rtc: row.reindex(rtc[rtc==rtc[row.name]].index).dropna()\n",
    "reindex_out = lambda row, rtc: row.reindex(rtc[rtc!=rtc[row.name]].index).dropna()"
   ]
  },
  {
   "cell_type": "code",
   "execution_count": null,
   "metadata": {},
   "outputs": [],
   "source": [
    "def get_closest_distances(lds, dispatcher):\n",
    "    read_to_trio = read_to_category(dispatcher, 0)\n",
    "    read_to_subject = read_to_category(dispatcher, 1)\n",
    "    return lds.apply(\n",
    "        lambda row: pd.Series({\n",
    "            \"subject\": reindex_in(row, read_to_subject).drop(index=row.name).min(),\n",
    "            \"trio\": reindex_in(reindex_out(row, read_to_subject), read_to_trio).min(),\n",
    "            \"outgroup\": reindex_out(row, read_to_trio).min(),\n",
    "        }),\n",
    "        axis=1,\n",
    "    )"
   ]
  },
  {
   "cell_type": "code",
   "execution_count": null,
   "metadata": {},
   "outputs": [],
   "source": [
    "def subject_to_subject_lds(lds, dispatcher, a, b):\n",
    "    read_to_subject = read_to_category(dispatcher, 1)\n",
    "    return lds.loc[read_to_subject[read_to_subject==a].index, read_to_subject[read_to_subject==b].index]"
   ]
  },
  {
   "cell_type": "code",
   "execution_count": null,
   "metadata": {},
   "outputs": [],
   "source": [
    "def get_closest_family_distances(lds, dispatcher, **kwargs):\n",
    "    target, test, control = list(kwargs)\n",
    "    return pd.DataFrame({\n",
    "        f\"{test} to {target}\": subject_to_subject_lds(lds, dispatcher, kwargs[test], kwargs[target]).min(axis=1),\n",
    "        f\"{test} to {control}\": subject_to_subject_lds(lds, dispatcher, kwargs[test], kwargs[control]).min(axis=1),\n",
    "    })"
   ]
  },
  {
   "cell_type": "code",
   "execution_count": null,
   "metadata": {},
   "outputs": [],
   "source": [
    "def process_distances(lds, dispatcher):\n",
    "    closest_distances = get_closest_distances(lds, dispatcher)\n",
    "    ashkenazim_from_father = get_closest_family_distances(lds, dispatcher, son=\"HG002\", father=\"HG003\", mother=\"HG004\")\n",
    "    ashkenazim_from_mother = get_closest_family_distances(lds, dispatcher, son=\"HG002\", mother=\"HG004\", father=\"HG003\")\n",
    "    chinese_from_father = get_closest_family_distances(lds, dispatcher, son=\"HG005\", father=\"HG006\", mother=\"HG007\")\n",
    "    chinese_from_mother = get_closest_family_distances(lds, dispatcher, son=\"HG005\", mother=\"HG007\", father=\"HG006\")\n",
    "    return (\n",
    "        closest_distances,\n",
    "        ashkenazim_from_father, ashkenazim_from_mother,\n",
    "        chinese_from_father, chinese_from_mother,\n",
    "        *wilcoxon_dropna(closest_distances, \"subject\", \"trio\"),\n",
    "        *wilcoxon_dropna(closest_distances, \"subject\", \"outgroup\"),\n",
    "        *wilcoxon_dropna(closest_distances, \"trio\", \"outgroup\"),\n",
    "        *wilcoxon_dropna(ashkenazim_from_father, \"father to son\", \"father to mother\"),\n",
    "        *wilcoxon_dropna(ashkenazim_from_mother, \"mother to son\", \"mother to father\"),\n",
    "        *wilcoxon_dropna(chinese_from_father, \"father to son\", \"father to mother\"),\n",
    "        *wilcoxon_dropna(chinese_from_mother, \"mother to son\", \"mother to father\"),\n",
    "    )"
   ]
  },
  {
   "cell_type": "code",
   "execution_count": null,
   "metadata": {
    "scrolled": false
   },
   "outputs": [],
   "source": [
    "stats = pd.DataFrame(columns=[\n",
    "    \"NA12878\", \"AshkenazimTrio\", \"ChineseTrio\",\n",
    "    \"cr\", \"cp\",\n",
    "    \"s2t_p\", \"s2o_p\", \"t2o_p\", \"aff_p\", \"afm_p\", \"cff_p\", \"cfm_p\",\n",
    "])\n",
    "\n",
    "cd_list, aff_list, afm_list, cff_list, cfm_list = [], [], [], [], []\n",
    "NO_PLOT = False\n",
    "\n",
    "for chrom in tqdm(RAW_GLOBAL_LDS):\n",
    "    try:\n",
    "        lds, Z, data2d, dispatcher, gf = process_lds(RAW_GLOBAL_LDS, chrom, DENSITIES, ecx, no_plot=NO_PLOT, scale=.2)\n",
    "    except ValueError: # too few observations\n",
    "        continue\n",
    "    try:\n",
    "        cr, cp = cophenetic_correlation(lds, Z)\n",
    "    except ValueError: # too few observations\n",
    "        cr, cp = np.nan, np.nan\n",
    "    if not NO_PLOT:\n",
    "        fixup_labels(gf, chrom)\n",
    "        gf.figure.savefig(\n",
    "            f\"{DATA_DIR}/PacBio/haplotypes/clusters-q_arm/\"+chrom+\".pdf\", bbox_inches=\"tight\",\n",
    "        )\n",
    "        close(gf.figure)\n",
    "    cd, aff, afm, cff, cfm, _, _, s2t_p, _, _, s2o_p, _, _, t2o_p, _, _, aff_p, _, _, afm_p, _, _, cff_p, _, _, cfm_p = (\n",
    "        process_distances(lds, dispatcher)\n",
    "    )\n",
    "    cd_list.append(cd)\n",
    "    aff_list.append(aff)\n",
    "    afm_list.append(afm)\n",
    "    cff_list.append(cff)\n",
    "    cfm_list.append(cfm)\n",
    "    stats.loc[chrom] = [\n",
    "        np.nan, np.nan, np.nan,\n",
    "        cr, cp,\n",
    "        s2t_p, s2o_p, t2o_p, aff_p, afm_p, cff_p, cfm_p,\n",
    "    ]\n",
    "    for trio, subtree_count in count_subtrees(dispatcher).items():\n",
    "        stats.loc[chrom, trio] = subtree_count"
   ]
  },
  {
   "cell_type": "code",
   "execution_count": null,
   "metadata": {
    "scrolled": false
   },
   "outputs": [],
   "source": [
    "legend, axs = subplots(figsize=(6.7, 2.5), ncols=3, gridspec_kw=dict(width_ratios=(1, 4.5, 3.4), wspace=0))\n",
    "\n",
    "axs[0].imshow(np.vstack([np.linspace(0, 1, 256)]).T, cmap=\"Greys_r\", aspect=\"auto\")\n",
    "axs[0].set(xticks=[], yticks=[0, 255])\n",
    "axs[0].set_yticklabels([\"$\\geq{}0.15$\", \"0\"], fontsize=14)\n",
    "axs[0].text(x=-.2, y=128, s=\"Relative\\ndistance\\n\", rotation=90, ha=\"right\", va=\"center\", fontsize=17)\n",
    "\n",
    "for x, subject in enumerate(sorted(SUBJECT_TO_TRIO)):\n",
    "    axs[1].plot([x, x], [0, 1], color=\"#888\", lw=1.5)\n",
    "    axs[1].scatter([x]*4, np.linspace(.1, .7, 4)+x/30, color=POPULATION_COLORS[subject], marker=\"_\", s=125)\n",
    "\n",
    "axs[1].set(xlim=(-4.5, 8.5), xticks=[], yticks=[])\n",
    "twiny = axs[1].twiny()\n",
    "twiny.set(xlim=(-4.5, 8.5), xticks=[])\n",
    "for tick in twiny.get_xticklabels():\n",
    "    tick.set_rotation(80)\n",
    "twiny.tick_params(axis=\"both\", which=\"both\", length=0)\n",
    "for spine in \"top\", \"bottom\":\n",
    "    axs[1].spines[spine].set_visible(False)\n",
    "    twiny.spines[spine].set_visible(False)\n",
    "axs[1].text(x=-2, y=.5, s=\"Assignment of\\nreads to subjects\", rotation=90, fontsize=16, ha=\"center\", va=\"center\")\n",
    "axs[1].text(x=-1.5, y=1.1, s=\"/ populations\", rotation=90, ha=\"center\", va=\"bottom\", fontsize=16)\n",
    "\n",
    "csty1 = \"angle3,angleA=80,angleB=-60\"\n",
    "csty2 = \"angle3,angleA=60,angleB=-70\"\n",
    "asty = \"Simple, tail_width=.25, head_width=7, head_length=5\"\n",
    "draw_fancy_arrow(-0.02, 2.1, 1, axs[1], lw=1, csty=csty1)\n",
    "draw_fancy_arrow(-0.02, 3.1, 1, axs[1], lw=1, asty=asty, csty=csty2)\n",
    "draw_fancy_arrow(-0.02, 5.1, 4, axs[1], lw=1, csty=csty1)\n",
    "draw_fancy_arrow(-0.02, 6.1, 4, axs[1], lw=1, asty=asty, csty=csty2)\n",
    "\n",
    "axs[1].text(x=2.95, y=-.35, s=\"child{}parent\\nrelatedness\".format(chr(0x2190)), va=\"center\", ha=\"center\", fontsize=16)\n",
    "line = Line2D((2.5, 4.1), (-.25, -.12), lw=1, ls=\"--\", color=\"#888\")\n",
    "line.set_clip_on(False)\n",
    "axs[1].add_line(line)\n",
    "line = Line2D((2.5, 2.1), (-.25, -.16), lw=1, ls=\"--\", color=\"#888\")\n",
    "line.set_clip_on(False)\n",
    "axs[1].add_line(line)\n",
    "\n",
    "line = Line2D((-.2, .2), (1.1, 1.1), lw=4, color=POPULATION_COLORS[\"HG001\"])\n",
    "line.set_clip_on(False)\n",
    "axs[1].add_line(line)\n",
    "axs[1].text(x=.4, y=1.1, s=\"  Utah\", ha=\"center\", va=\"bottom\", rotation=50, fontsize=17, color=POPULATION_COLORS[\"HG001\"])\n",
    "\n",
    "line = Line2D((.8, 3.2), (1.1, 1.1), lw=4, color=POPULATION_COLORS[\"HG002\"])\n",
    "line.set_clip_on(False)\n",
    "axs[1].add_line(line)\n",
    "axs[1].text(x=3.7, y=1.1, s=\"  Ashkenazim\", ha=\"center\", va=\"bottom\", rotation=50, fontsize=17, color=POPULATION_COLORS[\"HG002\"])\n",
    "\n",
    "line = Line2D((3.8, 6.2), (1.1, 1.1), lw=4, color=POPULATION_COLORS[\"HG005\"])\n",
    "line.set_clip_on(False)\n",
    "axs[1].add_line(line)\n",
    "axs[1].text(x=6, y=1.1, s=\"  Chinese\", ha=\"center\", va=\"bottom\", rotation=50, fontsize=17, color=POPULATION_COLORS[\"HG005\"])\n",
    "\n",
    "axs[2].add_patch(Rectangle((0,3), 1.5, .65, facecolor=\"#119933\", edgecolor=\"black\"))\n",
    "axs[2].text(x=1.75, y=3.25, s=\"TTAGGG\", fontsize=15, va=\"center\")\n",
    "axs[2].add_patch(Rectangle((0,2), 1.5, .65, facecolor=\"#EEDD77\", edgecolor=\"black\"))\n",
    "axs[2].text(x=1.75, y=2.25, s=\"TGAGGG\", fontsize=15, va=\"center\")\n",
    "axs[2].add_patch(Rectangle((0,1), 1.5, .65, facecolor=\"#88DFEF\", edgecolor=\"black\"))\n",
    "axs[2].text(x=1.75, y=1.25, s=\"TTAGGGG\", fontsize=15, va=\"center\")\n",
    "axs[2].add_patch(Rectangle((0,0), 1.5, .65, facecolor=\"#DDDDDD\", edgecolor=\"black\"))\n",
    "axs[2].text(x=1.75, y=0.25, s=\"background\", fontsize=13, va=\"center\")\n",
    "axs[2].set(xticks=[], yticks=[], xlim=(-.4, 4.8), ylim=(-0.7, 4.4))\n",
    "axs[2].set_title(\"Motif densities\", fontsize=17)\n",
    "\n",
    "legend.add_artist(Rectangle((.0, -.2), .94, 1.73, edgecolor=\"black\", facecolor=\"none\"))\n",
    "\n",
    "legend.savefig(f\"{DATA_DIR}/PacBio/haplotypes/clusters-q_arm/legend.pdf\", bbox_inches=\"tight\")"
   ]
  },
  {
   "cell_type": "code",
   "execution_count": null,
   "metadata": {},
   "outputs": [],
   "source": [
    "PRINT_NS = False\n",
    "\n",
    "if PRINT_NS:\n",
    "    format_pval = lambda p: \"ns\" if (p >= .05) else (\"<1.0e-300\" if (p < 1e-300) else format(p, \".1e\"))\n",
    "else:\n",
    "    format_pval = lambda p: format(p, \".2f\") if (p >= .05) else (\"<1.0e-300\" if (p < 1e-300) else format(p, \".1e\"))"
   ]
  },
  {
   "cell_type": "code",
   "execution_count": null,
   "metadata": {},
   "outputs": [],
   "source": [
    "st = stats.reindex(natsorted_chromosomes(stats.index)).copy()\n",
    "st.index.name = \"contig\"\n",
    "tc = st.iloc[:,:3].values.flatten()\n",
    "tc = tc[~np.isnan(tc)]\n",
    "print(\"Max subtree count:\", stats.iloc[:,:3].max(axis=0).sort_values().iloc[[-1]].to_string())\n",
    "print(\"Median subtree count:\", np.median(tc))"
   ]
  },
  {
   "cell_type": "code",
   "execution_count": null,
   "metadata": {},
   "outputs": [],
   "source": [
    "st = stats.reindex(natsorted_chromosomes(stats.index)).copy()\n",
    "st.index.name = \"contig\"\n",
    "st = st.iloc[:,3:].reset_index()\n",
    "st.insert(loc=0, column=\"chromosome\", value=st[\"contig\"].apply(convname))\n",
    "\n",
    "coph = st.iloc[:,:4].copy()\n",
    "coph[\"cp\"] = multipletests(coph[\"cp\"], method=\"bonferroni\")[1]\n",
    "coph[\"r\"] = coph[\"cr\"].apply(lambda r: format(r, \".2f\"))\n",
    "coph[\"p\"] = coph[\"cp\"].apply(format_pval)\n",
    "coph.drop(columns=[\"cr\", \"cp\"])"
   ]
  },
  {
   "cell_type": "code",
   "execution_count": null,
   "metadata": {},
   "outputs": [],
   "source": [
    "with open(\"for_wilcoxon-q_arm.pkl\", mode=\"wb\") as pkl:\n",
    "    Q = Namespace(cd_list=cd_list, aff_list=aff_list, afm_list=afm_list, cff_list=cff_list, cfm_list=cfm_list)\n",
    "    dump(Q, pkl)"
   ]
  },
  {
   "cell_type": "code",
   "execution_count": null,
   "metadata": {},
   "outputs": [],
   "source": [
    "cd_all = pd.concat(cd_list)\n",
    "print(len(cd_all[cd_all[\"subject\"]>cd_all[\"outgroup\"]]), len(cd_all[cd_all[\"subject\"]>cd_all[\"outgroup\"]])/3729)\n",
    "inter_reads = cd_all[cd_all[\"subject\"]>=cd_all[\"outgroup\"]*2].index\n",
    "inter_dispatcher = pd.DataFrame(index=inter_reads, data={\"subject\": inter_reads.map(lambda s: s.split(\":\")[1])})\n",
    "print(len(inter_dispatcher), len(inter_dispatcher)/3729)\n",
    "inter_dispatcher[\"subject\"].value_counts()"
   ]
  },
  {
   "cell_type": "code",
   "execution_count": null,
   "metadata": {},
   "outputs": [],
   "source": [
    "inter_dispatcher[\"chromosome\"] = np.nan\n",
    "inter_dispatcher[\"rname\"] = np.nan\n",
    "\n",
    "for chrom, lds in RAW_GLOBAL_LDS.items():\n",
    "    for name in lds.index:\n",
    "        if name in inter_dispatcher.index:\n",
    "            inter_dispatcher.loc[name, \"rname\"] = chrom\n",
    "inter_dispatcher[\"chromosome\"] = inter_dispatcher[\"rname\"].apply(convname)"
   ]
  },
  {
   "cell_type": "code",
   "execution_count": null,
   "metadata": {},
   "outputs": [],
   "source": [
    "inter_counts = inter_dispatcher.groupby([\"subject\", \"chromosome\"], as_index=False).count().pivot(\n",
    "    index=\"subject\", columns=\"chromosome\", values=\"rname\",\n",
    ")\n",
    "inter_counts = inter_counts[natsorted_chromosomes(inter_counts.columns)].applymap(lambda x: \"\" if np.isnan(x) else str(int(x)))\n",
    "inter_counts"
   ]
  }
 ],
 "metadata": {
  "kernelspec": {
   "display_name": "Python 3 (ipykernel)",
   "language": "python",
   "name": "python3"
  },
  "language_info": {
   "codemirror_mode": {
    "name": "ipython",
    "version": 3
   },
   "file_extension": ".py",
   "mimetype": "text/x-python",
   "name": "python",
   "nbconvert_exporter": "python",
   "pygments_lexer": "ipython3",
   "version": "3.9.15"
  }
 },
 "nbformat": 4,
 "nbformat_minor": 2
}
