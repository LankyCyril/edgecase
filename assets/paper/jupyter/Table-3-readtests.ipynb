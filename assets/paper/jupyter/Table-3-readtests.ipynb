{
 "cells": [
  {
   "cell_type": "code",
   "execution_count": 1,
   "metadata": {},
   "outputs": [],
   "source": [
    "import pandas as pd\n",
    "import numpy as np\n",
    "import seaborn as sns\n",
    "import re\n",
    "from matplotlib.pyplot import subplots, style, rc\n",
    "from tqdm import tqdm\n",
    "from venn import venn, pseudovenn\n",
    "from collections import defaultdict\n",
    "from itertools import count, islice\n",
    "from functools import lru_cache"
   ]
  },
  {
   "cell_type": "code",
   "execution_count": 2,
   "metadata": {},
   "outputs": [],
   "source": [
    "style.use([\"seaborn-poster\", \"seaborn-whitegrid\"])\n",
    "rc(\"axes\", linewidth=1, edgecolor=\"black\")\n",
    "%matplotlib inline"
   ]
  },
  {
   "cell_type": "code",
   "execution_count": 9,
   "metadata": {},
   "outputs": [],
   "source": [
    "from pickle import load\n",
    "\n",
    "with open(\"for_wilcoxon-p_arm.pkl\", mode=\"rb\") as pkl:\n",
    "    P = load(pkl)\n",
    "with open(\"for_wilcoxon-q_arm.pkl\", mode=\"rb\") as pkl:\n",
    "    Q = load(pkl)"
   ]
  },
  {
   "cell_type": "code",
   "execution_count": 7,
   "metadata": {},
   "outputs": [],
   "source": [
    "from scipy.stats import wilcoxon\n",
    "\n",
    "def wilcoxon_dropna(df, a, b):\n",
    "    dfnona = df[[a, b]].dropna()\n",
    "    try:\n",
    "        yes = sum(dfnona[a] < dfnona[b])\n",
    "        no = sum(dfnona[a] > dfnona[b])\n",
    "        p = wilcoxon(dfnona[a], dfnona[b])[1]\n",
    "        return yes, no, p\n",
    "    except ValueError:\n",
    "        return np.nan, np.nan, np.nan"
   ]
  },
  {
   "cell_type": "code",
   "execution_count": 22,
   "metadata": {},
   "outputs": [],
   "source": [
    "from statsmodels.stats.multitest import multipletests\n",
    "\n",
    "overall = pd.DataFrame(\n",
    "    index=['s2t_p', 's2o_p', 't2o_p', 'aff_p', 'afm_p', 'cff_p', 'cfm_p'],\n",
    "    columns=[\"p\"],\n",
    "    data=[\n",
    "        wilcoxon_dropna(pd.concat(P.cd_list + Q.cd_list), \"subject\", \"trio\")[2],\n",
    "        wilcoxon_dropna(pd.concat(P.cd_list + Q.cd_list), \"subject\", \"outgroup\")[2],\n",
    "        wilcoxon_dropna(pd.concat(P.cd_list + Q.cd_list), \"trio\", \"outgroup\")[2],\n",
    "        wilcoxon_dropna(pd.concat(P.aff_list + Q.aff_list), \"father to son\", \"father to mother\")[2],\n",
    "        wilcoxon_dropna(pd.concat(P.afm_list + Q.afm_list), \"mother to son\", \"mother to father\")[2],\n",
    "        wilcoxon_dropna(pd.concat(P.cff_list + Q.cff_list), \"father to son\", \"father to mother\")[2],\n",
    "        wilcoxon_dropna(pd.concat(P.cfm_list + Q.cfm_list), \"mother to son\", \"mother to father\")[2],\n",
    "    ],\n",
    ")\n",
    "\n",
    "overall[\"p_adjusted\"] = multipletests(overall[\"p\"], method=\"bonferroni\")[1]"
   ]
  },
  {
   "cell_type": "code",
   "execution_count": 23,
   "metadata": {},
   "outputs": [
    {
     "data": {
      "text/html": [
       "<div>\n",
       "<style scoped>\n",
       "    .dataframe tbody tr th:only-of-type {\n",
       "        vertical-align: middle;\n",
       "    }\n",
       "\n",
       "    .dataframe tbody tr th {\n",
       "        vertical-align: top;\n",
       "    }\n",
       "\n",
       "    .dataframe thead th {\n",
       "        text-align: right;\n",
       "    }\n",
       "</style>\n",
       "<table border=\"1\" class=\"dataframe\">\n",
       "  <thead>\n",
       "    <tr style=\"text-align: right;\">\n",
       "      <th></th>\n",
       "      <th>p</th>\n",
       "      <th>p_adjusted</th>\n",
       "      <th>p_adjusted_formatted</th>\n",
       "    </tr>\n",
       "  </thead>\n",
       "  <tbody>\n",
       "    <tr>\n",
       "      <th>s2t_p</th>\n",
       "      <td>6.043497e-57</td>\n",
       "      <td>4.230448e-56</td>\n",
       "      <td>4.2e-56</td>\n",
       "    </tr>\n",
       "    <tr>\n",
       "      <th>s2o_p</th>\n",
       "      <td>1.088936e-107</td>\n",
       "      <td>7.622554e-107</td>\n",
       "      <td>7.6e-107</td>\n",
       "    </tr>\n",
       "    <tr>\n",
       "      <th>t2o_p</th>\n",
       "      <td>3.205007e-41</td>\n",
       "      <td>2.243505e-40</td>\n",
       "      <td>2.2e-40</td>\n",
       "    </tr>\n",
       "    <tr>\n",
       "      <th>aff_p</th>\n",
       "      <td>5.317692e-12</td>\n",
       "      <td>3.722384e-11</td>\n",
       "      <td>3.7e-11</td>\n",
       "    </tr>\n",
       "    <tr>\n",
       "      <th>afm_p</th>\n",
       "      <td>1.608129e-01</td>\n",
       "      <td>1.000000e+00</td>\n",
       "      <td>1.00</td>\n",
       "    </tr>\n",
       "    <tr>\n",
       "      <th>cff_p</th>\n",
       "      <td>4.794396e-03</td>\n",
       "      <td>3.356077e-02</td>\n",
       "      <td>3.4e-02</td>\n",
       "    </tr>\n",
       "    <tr>\n",
       "      <th>cfm_p</th>\n",
       "      <td>3.224968e-02</td>\n",
       "      <td>2.257478e-01</td>\n",
       "      <td>0.23</td>\n",
       "    </tr>\n",
       "  </tbody>\n",
       "</table>\n",
       "</div>"
      ],
      "text/plain": [
       "                   p     p_adjusted p_adjusted_formatted\n",
       "s2t_p   6.043497e-57   4.230448e-56              4.2e-56\n",
       "s2o_p  1.088936e-107  7.622554e-107             7.6e-107\n",
       "t2o_p   3.205007e-41   2.243505e-40              2.2e-40\n",
       "aff_p   5.317692e-12   3.722384e-11              3.7e-11\n",
       "afm_p   1.608129e-01   1.000000e+00                 1.00\n",
       "cff_p   4.794396e-03   3.356077e-02              3.4e-02\n",
       "cfm_p   3.224968e-02   2.257478e-01                 0.23"
      ]
     },
     "execution_count": 23,
     "metadata": {},
     "output_type": "execute_result"
    }
   ],
   "source": [
    "PRINT_NS = False\n",
    "\n",
    "if PRINT_NS:\n",
    "    format_pval = lambda p: \"ns\" if (p >= .05) else (\"<1.0e-300\" if (p < 1e-300) else format(p, \".1e\"))\n",
    "else:\n",
    "    format_pval = lambda p: format(p, \".2f\") if (p >= .05) else (\"<1.0e-300\" if (p < 1e-300) else format(p, \".1e\"))\n",
    "\n",
    "overall[\"p_adjusted_formatted\"] = overall[\"p_adjusted\"].apply(format_pval)\n",
    "overall"
   ]
  }
 ],
 "metadata": {
  "kernelspec": {
   "display_name": "Python 3",
   "language": "python",
   "name": "python3"
  },
  "language_info": {
   "codemirror_mode": {
    "name": "ipython",
    "version": 3
   },
   "file_extension": ".py",
   "mimetype": "text/x-python",
   "name": "python",
   "nbconvert_exporter": "python",
   "pygments_lexer": "ipython3",
   "version": "3.7.1"
  }
 },
 "nbformat": 4,
 "nbformat_minor": 2
}
