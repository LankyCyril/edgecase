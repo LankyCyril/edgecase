{
 "cells": [
  {
   "cell_type": "code",
   "execution_count": null,
   "metadata": {},
   "outputs": [],
   "source": [
    "import pandas as pd\n",
    "import numpy as np\n",
    "import seaborn as sns\n",
    "import re\n",
    "from matplotlib.pyplot import subplots, style, rc\n",
    "from tqdm import tqdm\n",
    "from venn import venn, pseudovenn\n",
    "from collections import defaultdict\n",
    "from itertools import count, islice, chain\n",
    "from functools import lru_cache"
   ]
  },
  {
   "cell_type": "code",
   "execution_count": null,
   "metadata": {},
   "outputs": [],
   "source": [
    "%matplotlib inline"
   ]
  },
  {
   "cell_type": "code",
   "execution_count": null,
   "metadata": {},
   "outputs": [],
   "source": [
    "from edgecaselib.formats import load_kmerscan, EmptyKmerscanError\n",
    "from scipy.stats import entropy\n",
    "from os import path\n",
    "from pickle import load, dump\n",
    "from gzip import open as gzopen"
   ]
  },
  {
   "cell_type": "code",
   "execution_count": null,
   "metadata": {},
   "outputs": [],
   "source": [
    "SUBJECT_TO_TRIO = {\n",
    "    \"HG001\": \"NA12878\",\n",
    "    \"HG002\": \"AshkenazimTrio\", \"HG003\": \"AshkenazimTrio\", \"HG004\": \"AshkenazimTrio\",\n",
    "    \"HG005\": \"ChineseTrio\", \"HG006\": \"ChineseTrio\", \"HG007\": \"ChineseTrio\",\n",
    "}"
   ]
  },
  {
   "cell_type": "code",
   "execution_count": null,
   "metadata": {},
   "outputs": [],
   "source": [
    "DATA_DIR = \"../../../data/datasets/2021\""
   ]
  },
  {
   "cell_type": "code",
   "execution_count": null,
   "metadata": {},
   "outputs": [],
   "source": [
    "KMERSCANS_PKL = f\"{DATA_DIR}/PacBio/kmerscans-for-entropy.pkl.gz\"\n",
    "\n",
    "if path.isfile(KMERSCANS_PKL):\n",
    "    with gzopen(KMERSCANS_PKL, mode=\"rb\") as pkl:\n",
    "        KMERSCANS = load(pkl)\n",
    "else:\n",
    "    KMERSCANS = {}\n",
    "    for subject, trio in SUBJECT_TO_TRIO.items():\n",
    "        try:\n",
    "            ksp = load_kmerscan(\n",
    "                f\"{DATA_DIR}/PacBio/{trio}/{subject}/kmerscanner-all-p_arm.dat.gz\",\n",
    "                gzipped=True, samfilters=[[\"tract_anchor\"], [\"is_q\"], 0],\n",
    "                bin_size=10,\n",
    "            )\n",
    "        except EmptyKmerscanError:\n",
    "            ksp = {}\n",
    "        try:\n",
    "            ksq = load_kmerscan(\n",
    "                f\"{DATA_DIR}/PacBio/{trio}/{subject}/kmerscanner-all-q_arm.dat.gz\",\n",
    "                gzipped=True, samfilters=[[\"is_q\", \"tract_anchor\"], 0, 0],\n",
    "                bin_size=10,\n",
    "            )\n",
    "        except EmptyKmerscanError:\n",
    "            ksq = {}\n",
    "        KMERSCANS[subject] = (ksp, ksq)\n",
    "    with gzopen(KMERSCANS_PKL, mode=\"wb\") as pkl:\n",
    "        dump(KMERSCANS, pkl)"
   ]
  },
  {
   "cell_type": "code",
   "execution_count": null,
   "metadata": {},
   "outputs": [],
   "source": [
    "def get_per_read_modes(bdf):\n",
    "    return (\n",
    "        bdf.groupby(\"name\")\n",
    "        .apply(lambda block: block.set_index(\"motif\").iloc[:,8:].idxmax(axis=0))\n",
    "        .dropna(how=\"all\", axis=1)\n",
    "    )"
   ]
  },
  {
   "cell_type": "code",
   "execution_count": null,
   "metadata": {},
   "outputs": [],
   "source": [
    "def calculate_entropies(bdf):\n",
    "    per_read_modes = get_per_read_modes(bdf)\n",
    "    N = len(per_read_modes.melt().value.dropna().unique())\n",
    "    return pd.DataFrame({\n",
    "        \"entropy\": per_read_modes.apply(lambda c: entropy(c.value_counts())) / np.log(N),\n",
    "        \"coverage\": (~per_read_modes.isnull()).sum(axis=0),\n",
    "    })"
   ]
  },
  {
   "cell_type": "code",
   "execution_count": null,
   "metadata": {},
   "outputs": [],
   "source": [
    "ENTROPIES_DICT = {\n",
    "    subject: pd.concat(\n",
    "        calculate_entropies(bdf)\n",
    "        for bdf in tqdm(\n",
    "            chain(ksp.values(), ksq.values()),\n",
    "            desc=subject, unit=\"arm\",\n",
    "            total=len(ksp)+len(ksq),\n",
    "        )\n",
    "    )\n",
    "    for subject, (ksp, ksq) in KMERSCANS.items()\n",
    "}"
   ]
  },
  {
   "cell_type": "code",
   "execution_count": null,
   "metadata": {},
   "outputs": [],
   "source": [
    "def weighted_quantile(points, weights, q):\n",
    "    if q == 1:\n",
    "        return max(points)\n",
    "    elif q > 1:\n",
    "        return ValueError\n",
    "    else:\n",
    "        indsort = np.argsort(points.values)\n",
    "        spoints, sweights = points.values[indsort], weights.values[indsort]\n",
    "        sn = np.cumsum(sweights)\n",
    "        pn = (sn - sweights / 2) / sn[-1]\n",
    "        return np.interp(q, pn, spoints)"
   ]
  },
  {
   "cell_type": "code",
   "execution_count": null,
   "metadata": {},
   "outputs": [],
   "source": [
    "def plot_entropies(entropies_dict, downsample_viz=1, scale=1, cmap_2d=\"Greys\", vmin_2d=-.009, cmap_levels=\"gist_heat_r\", vmin_levels=-.003):\n",
    "    width_ratios = [.75, 2.5] * len(entropies_dict)\n",
    "    height_ratios = [5, .5]\n",
    "    figure, axs = subplots(\n",
    "        figsize=(sum(width_ratios)*scale, sum(height_ratios)*scale),\n",
    "        ncols=len(width_ratios), nrows=len(height_ratios), squeeze=False,\n",
    "        gridspec_kw=dict(width_ratios=width_ratios, wspace=0, height_ratios=height_ratios, hspace=0),\n",
    "    )\n",
    "    for i, (subject, entropies) in tqdm(enumerate(entropies_dict.items()), desc=\"Plotting\", total=len(entropies_dict)):\n",
    "        maxcov = entropies[\"coverage\"].max()\n",
    "        ax2d = axs[0,i*2+1]\n",
    "        kde2d_kws=dict(data=entropies[::downsample_viz], x=\"coverage\", y=\"entropy\", cut=0, ax=ax2d)\n",
    "        sns.kdeplot(**kde2d_kws, levels=50, fill=True, cmap=cmap_2d, vmin=vmin_2d, vmax=1.5)\n",
    "        sns.kdeplot(**kde2d_kws, levels=10, fill=False, cmap=cmap_levels, vmin=vmin_levels, vmax=1.75)\n",
    "        ax2d.set(xlabel=None, ylabel=None, ylim=(0, 1), xticks=[], yticks=[])\n",
    "        ax2d.set_title(subject, fontsize=13)\n",
    "        xoffset = maxcov * (.45 if subject == \"HG006\" else .95) # not sure why it gets misaligned for HG006 otherwise...\n",
    "        ax2d.text(x=xoffset, y=.95, ha=\"right\", va=\"top\", s=\"Weighted\\npercentiles\\nof entropy:\")\n",
    "        for q, y, desc in zip([.25, .5, .75, 1], [.6, .67, .74, .81], [\"25th (Q1)\", \"50th (Q2)\", \"75th (Q3)\", \"100th\"]):\n",
    "            qval = weighted_quantile(entropies[\"entropy\"], entropies[\"coverage\"]-1, q)\n",
    "            color = \"green\" if (q == .5) else \"#777\"\n",
    "            ax2d.text(x=xoffset, y=y-.05, ha=\"right\", va=\"top\", s=f\"{desc}: {qval:.2f}\", color=color, fontsize=13)\n",
    "        ax_e = axs[0,i*2]\n",
    "        sns.kdeplot(data=entropies, y=\"entropy\", cut=0, ax=ax_e, shade=True, color=\"#555\")\n",
    "        ax_e.set(\n",
    "            xlim=(ax_e.get_xlim()[1]*1.25, 0),\n",
    "            ylim=(0, 1),\n",
    "            xticks=[], yticks=[], xlabel=None, ylabel=None,\n",
    "        )\n",
    "        for spine in \"top\", \"bottom\":\n",
    "            ax_e.spines[spine].set_visible(False)\n",
    "        ax_c = axs[1,i*2+1]\n",
    "        sns.kdeplot(data=entropies, x=\"coverage\", cut=0, ax=ax_c, shade=True, color=\"#555\")\n",
    "        ax_c.set(\n",
    "            xlim=(1, maxcov), ylim=(ax_c.get_ylim()[1]*1.2, 0),\n",
    "            xticks=[1, maxcov], xlabel=None, yticks=[], ylabel=None,\n",
    "        )\n",
    "        ax_c.text(x=maxcov/2, y=ax_c.get_ylim()[0]*1.22, s=\"coverage\", ha=\"center\", va=\"top\", fontsize=13)\n",
    "        for spine in \"left\", \"right\":\n",
    "            ax_c.spines[spine].set_visible(False)\n",
    "        axs[1,i*2].set(frame_on=False, xticks=[], yticks=[], xlim=(0, 1), ylim=(0, 1))\n",
    "    axs[0,0].set(yticks=[0, 1])\n",
    "    axs[0,0].text(x=axs[0,0].get_xlim()[0]*1.12, y=.5, s=\"entropy\", rotation=90, ha=\"right\", va=\"center\", fontsize=13)\n",
    "    return figure\n",
    "\n",
    "figure = plot_entropies(ENTROPIES_DICT, downsample_viz=1, vmin_2d=-.015, vmin_levels=-.05, scale=.82)\n",
    "figure.savefig(\"Figure_3.pdf\", bbox_inches=\"tight\")"
   ]
  }
 ],
 "metadata": {
  "kernelspec": {
   "display_name": "Python 3",
   "language": "python",
   "name": "python3"
  },
  "language_info": {
   "codemirror_mode": {
    "name": "ipython",
    "version": 3
   },
   "file_extension": ".py",
   "mimetype": "text/x-python",
   "name": "python",
   "nbconvert_exporter": "python",
   "pygments_lexer": "ipython3",
   "version": "3.7.1"
  }
 },
 "nbformat": 4,
 "nbformat_minor": 2
}
