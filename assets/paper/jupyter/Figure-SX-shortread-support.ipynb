{
 "cells": [
  {
   "cell_type": "code",
   "execution_count": 4,
   "metadata": {},
   "outputs": [],
   "source": [
    "import pandas as pd\n",
    "import numpy as np\n",
    "import seaborn as sns\n",
    "import re\n",
    "from matplotlib.pyplot import subplots, style, rc\n",
    "from tqdm import tqdm\n",
    "from venn import venn, pseudovenn\n",
    "from collections import defaultdict\n",
    "from itertools import count, islice\n",
    "from functools import lru_cache"
   ]
  },
  {
   "cell_type": "code",
   "execution_count": 5,
   "metadata": {},
   "outputs": [],
   "source": [
    "%matplotlib inline"
   ]
  },
  {
   "cell_type": "code",
   "execution_count": 37,
   "metadata": {},
   "outputs": [],
   "source": [
    "from pysam import AlignmentFile\n",
    "from edgecaselib.formats import load_index\n",
    "from edgecaselib.util import natsorted_chromosomes\n",
    "from pickle import dump, load\n",
    "from os import path\n",
    "\n",
    "DATA_DIR = \"../../../data/datasets/2021\"\n",
    "ecx = load_index(\"../../hg38ext.fa.ecx\")\n",
    "\n",
    "Q_CHROMS = [\"chr7\", \"chr8\", \"chr11\", \"chr12\", \"14qtel_1-500K_1_12_12_rc\", \"chr15\", \"18qtel_1-500K_1_12_12_rc\"]\n",
    "P_CHROMS = [\"chr2\", \"3ptel_1-500K_1_12_12\", \"4ptel_1-500K_1_12_12\", \"chr5\", \"chr9\", \"chr12\", \"17ptel_1_500K_1_12_12\"]"
   ]
  },
  {
   "cell_type": "code",
   "execution_count": 7,
   "metadata": {},
   "outputs": [],
   "source": [
    "def load_support(filename, is_q):\n",
    "    support = defaultdict(set)\n",
    "    with AlignmentFile(filename) as bam:\n",
    "        for entry in bam:\n",
    "            if entry.reference_name.endswith(\"/q\") == is_q:\n",
    "                support[entry.reference_name[:-2]] |= {\n",
    "                    rp for qp, rp in entry.get_aligned_pairs()\n",
    "                    if (qp is not None) and (rp is not None)\n",
    "                }\n",
    "    return support"
   ]
  },
  {
   "cell_type": "code",
   "execution_count": 8,
   "metadata": {},
   "outputs": [],
   "source": [
    "def load_chopper(filename, is_q):\n",
    "    chopper = {}\n",
    "    with AlignmentFile(filename) as bam:\n",
    "        for entry in bam:\n",
    "            if entry.flag & 0x4000 == 0x4000:\n",
    "                if (entry.flag & 0x8000 == 0x8000) == is_q:\n",
    "                    chopper[entry.qname] = (entry.reference_name, entry.reference_start, len(entry.seq))\n",
    "    return chopper"
   ]
  },
  {
   "cell_type": "code",
   "execution_count": 61,
   "metadata": {},
   "outputs": [],
   "source": [
    "def load_puller(filename, is_q, support):\n",
    "    puller = {}\n",
    "    with AlignmentFile(filename) as bam:\n",
    "        for entry in bam:\n",
    "            if entry.qname in support:\n",
    "                if (entry.flag & 0x4000 == 0x4000):# and (entry.flag & 3844 == 0):\n",
    "                    if (entry.flag & 0x8000 == 0x8000) == is_q:\n",
    "                        if is_q:\n",
    "                            puller[entry.qname] = (\n",
    "                                entry.reference_name, entry.reference_start, len(entry.seq),\n",
    "                            )\n",
    "                        else:\n",
    "                            puller[entry.qname] = (\n",
    "                                entry.reference_name,\n",
    "                                entry.reference_start-entry.query_alignment_start,\n",
    "                                len(entry.seq),\n",
    "                            )\n",
    "    return puller"
   ]
  },
  {
   "cell_type": "code",
   "execution_count": 10,
   "metadata": {},
   "outputs": [],
   "source": [
    "SUBJECT_TO_TRIO = {\n",
    "    \"HG001\": \"NA12878\",\n",
    "    \"HG002\": \"AshkenazimTrio\", \"HG003\": \"AshkenazimTrio\", \"HG004\": \"AshkenazimTrio\",\n",
    "    \"HG005\": \"ChineseTrio\", \"HG006\": \"ChineseTrio\", \"HG007\": \"ChineseTrio\",\n",
    "}"
   ]
  },
  {
   "cell_type": "code",
   "execution_count": 51,
   "metadata": {},
   "outputs": [
    {
     "name": "stderr",
     "output_type": "stream",
     "text": [
      "100%|██████████| 7/7 [17:42<00:00, 151.78s/it]\n"
     ]
    }
   ],
   "source": [
    "Q_SUPPORT_PKL = f\"{DATA_DIR}/PacBio/q_support.pkl\"\n",
    "Q_CHOPPER_PKL = f\"{DATA_DIR}/PacBio/q_chopper.pkl\"\n",
    "Q_PULLER_PKL = f\"{DATA_DIR}/PacBio/q_puller.pkl\"\n",
    "\n",
    "if path.isfile(Q_SUPPORT_PKL) and path.isfile(Q_CHOPPER_PKL) and path.isfile(Q_PULLER_PKL):\n",
    "    with open(Q_SUPPORT_PKL, mode=\"rb\") as pkl:\n",
    "        q_support = load(pkl)\n",
    "    with open(Q_CHOPPER_PKL, mode=\"rb\") as pkl:\n",
    "        q_chopper = load(pkl)\n",
    "    with open(Q_PULLER_PKL, mode=\"rb\") as pkl:\n",
    "        q_puller = load(pkl)\n",
    "else:\n",
    "    q_support, q_chopper, q_puller = {}, {}, {}\n",
    "    for subject, trio in tqdm(SUBJECT_TO_TRIO.items(), total=len(SUBJECT_TO_TRIO)):\n",
    "        support = load_support(f\"{DATA_DIR}/PacBio/{trio}/{subject}/telbam2tailchopper.bam\", is_q=True)\n",
    "        chopper = load_chopper(f\"{DATA_DIR}/PacBio/{trio}/{subject}/tailchopper.bam\", is_q=True)\n",
    "        puller = load_puller(f\"{DATA_DIR}/PacBio/{trio}/{subject}/tailpuller.bam\", is_q=True, support=support)\n",
    "        q_support.update(support)\n",
    "        q_chopper.update(chopper)\n",
    "        q_puller.update(puller)\n",
    "    with open(Q_SUPPORT_PKL, mode=\"wb\") as pkl:\n",
    "        dump(q_support, pkl)\n",
    "    with open(Q_CHOPPER_PKL, mode=\"wb\") as pkl:\n",
    "        dump(q_chopper, pkl)\n",
    "    with open(Q_PULLER_PKL, mode=\"wb\") as pkl:\n",
    "        dump(q_puller, pkl)"
   ]
  },
  {
   "cell_type": "code",
   "execution_count": 62,
   "metadata": {},
   "outputs": [
    {
     "name": "stderr",
     "output_type": "stream",
     "text": [
      "100%|██████████| 7/7 [16:56<00:00, 145.24s/it]\n"
     ]
    }
   ],
   "source": [
    "P_SUPPORT_PKL = f\"{DATA_DIR}/PacBio/p_support.pkl\"\n",
    "P_CHOPPER_PKL = f\"{DATA_DIR}/PacBio/p_chopper.pkl\"\n",
    "P_PULLER_PKL = f\"{DATA_DIR}/PacBio/p_puller.pkl\"\n",
    "\n",
    "if path.isfile(P_SUPPORT_PKL) and path.isfile(P_CHOPPER_PKL) and path.isfile(P_PULLER_PKL):\n",
    "    with open(P_SUPPORT_PKL, mode=\"rb\") as pkl:\n",
    "        p_support = load(pkl)\n",
    "    with open(P_CHOPPER_PKL, mode=\"rb\") as pkl:\n",
    "        p_chopper = load(pkl)\n",
    "    with open(P_PULLER_PKL, mode=\"rb\") as pkl:\n",
    "        p_puller = load(pkl)\n",
    "else:\n",
    "    p_support, p_chopper, p_puller = {}, {}, {}\n",
    "    for subject, trio in tqdm(SUBJECT_TO_TRIO.items(), total=len(SUBJECT_TO_TRIO)):\n",
    "        support = load_support(f\"{DATA_DIR}/PacBio/{trio}/{subject}/telbam2tailchopper.bam\", is_q=False)\n",
    "        chopper = load_chopper(f\"{DATA_DIR}/PacBio/{trio}/{subject}/tailchopper.bam\", is_q=False)\n",
    "        puller = load_puller(f\"{DATA_DIR}/PacBio/{trio}/{subject}/tailpuller.bam\", is_q=False, support=support)\n",
    "        p_support.update(support)\n",
    "        p_chopper.update(chopper)\n",
    "        p_puller.update(puller)\n",
    "    with open(P_SUPPORT_PKL, mode=\"wb\") as pkl:\n",
    "        dump(p_support, pkl)\n",
    "    with open(P_CHOPPER_PKL, mode=\"wb\") as pkl:\n",
    "        dump(p_chopper, pkl)\n",
    "    with open(P_PULLER_PKL, mode=\"wb\") as pkl:\n",
    "        dump(p_puller, pkl)"
   ]
  },
  {
   "cell_type": "code",
   "execution_count": 16,
   "metadata": {},
   "outputs": [],
   "source": [
    "def get_counts(chopper, min_count=50):\n",
    "    counts = defaultdict(int)\n",
    "    for _, (chrom, *_) in chopper.items():\n",
    "        counts[chrom] += 1\n",
    "    return {chrom: max(counts[chrom], 50) for chrom in natsorted_chromosomes(counts)}"
   ]
  },
  {
   "cell_type": "code",
   "execution_count": 17,
   "metadata": {},
   "outputs": [],
   "source": [
    "def scatter_one_q_read(ecx, chrom, prime, positions, start, length, ax, i):\n",
    "    tract_anchor = ecx.loc[(ecx[\"rname\"]==chrom) & (ecx[\"flag\"]==0x4000) & (ecx[\"prime\"]==prime), \"pos\"].iloc[0]\n",
    "    sorted_positions = [p for p in sorted(positions)]\n",
    "    non_covered_positions = [\n",
    "        p for p in range(max(0, start-tract_anchor), start-tract_anchor+length)\n",
    "        if p not in sorted_positions\n",
    "    ]\n",
    "    ax.scatter(non_covered_positions, [i]*len(non_covered_positions), color=\"darkblue\", marker=\".\", s=2)\n",
    "    ax.scatter(sorted_positions, [i]*len(sorted_positions), color=\"lightgreen\", marker=\".\", s=2)"
   ]
  },
  {
   "cell_type": "code",
   "execution_count": 109,
   "metadata": {},
   "outputs": [],
   "source": [
    "def scatter_one_p_read(ecx, chrom, prime, positions, start, length, ax, i):\n",
    "    tract_anchor = ecx.loc[(ecx[\"rname\"]==chrom) & (ecx[\"flag\"]==0x4000) & (ecx[\"prime\"]==prime), \"pos\"].iloc[0]\n",
    "    sorted_positions = np.array(sorted(positions))\n",
    "    shifted_positions = sorted_positions + start - tract_anchor\n",
    "    set_shifted_positions = set(shifted_positions)\n",
    "    shifted_non_covered_positions = np.array([\n",
    "        p for p in range(start - tract_anchor, min(0, start + length - tract_anchor))\n",
    "        if p not in set_shifted_positions\n",
    "    ])\n",
    "    ax.scatter(shifted_non_covered_positions, [i]*len(shifted_non_covered_positions), color=\"darkblue\", marker=\".\", s=.5)\n",
    "    ax.scatter(shifted_positions, [i]*len(shifted_positions), color=\"lightgreen\", marker=\".\", s=.5)"
   ]
  },
  {
   "cell_type": "code",
   "execution_count": 114,
   "metadata": {
    "scrolled": false
   },
   "outputs": [],
   "source": [
    "def plot_support(support, puller, chopper, ecx, is_q, chroms, min_count=50, factor=.005):\n",
    "    counts = {c: i for c, i in get_counts(chopper, min_count=min_count).items() if c in chroms}\n",
    "    figure, axs = subplots(\n",
    "        figsize=(7*.75, .75*(sum(counts.values())+len(counts)*20)*factor),\n",
    "        ncols=1, nrows=len(counts),\n",
    "        sharex=True,\n",
    "        gridspec_kw=dict(\n",
    "            wspace=0, hspace=.4,\n",
    "            height_ratios=counts.values(),\n",
    "        ),\n",
    "    )\n",
    "    chrom2ax = dict(zip(counts, axs))\n",
    "    ax2i = defaultdict(int)\n",
    "    prime = 3 if is_q else 5\n",
    "    for name in tqdm(set(support) & set(puller) & set(chopper)):\n",
    "        positions = support[name]\n",
    "        chrom, start, length = puller[name]\n",
    "        if chrom not in chroms:\n",
    "            continue\n",
    "        ax = chrom2ax[chrom]\n",
    "        i = ax2i[ax]\n",
    "        if is_q:\n",
    "            scatter_one_q_read(ecx, chrom, prime, positions, start, length, ax, i)\n",
    "        else:\n",
    "            scatter_one_p_read(ecx, chrom, prime, positions, start, length, ax, i)\n",
    "        ax2i[ax] += 1\n",
    "    for chrom, ax in chrom2ax.items():\n",
    "        if chrom not in chroms:\n",
    "            continue\n",
    "        if is_q:\n",
    "            ax.text(x=0, y=0, s=chrom+\" \", ha=\"right\", va=\"bottom\")\n",
    "            ax.set(\n",
    "                yticks=[], ylabel=None,\n",
    "                xlim=(0, ax.get_xlim()[1]), ylim=(0, max(ax2i[ax], min_count)+20),\n",
    "            )\n",
    "            ax.spines[\"right\"].set_visible(False)\n",
    "        else:\n",
    "            ax.text(x=0, y=0, s=\" \"+chrom, ha=\"left\", va=\"bottom\")\n",
    "            ax.set(\n",
    "                yticks=[], ylabel=None,\n",
    "                xlim=(ax.get_xlim()[0], 0), ylim=(0, max(ax2i[ax], min_count)+20),\n",
    "            )\n",
    "            ax.spines[\"left\"].set_visible(False)\n",
    "        ax.spines[\"top\"].set_visible(False)\n",
    "    figure.get_axes()[0].spines[\"top\"].set_visible(False)\n",
    "    for ax in figure.get_axes()[:-1]:\n",
    "        ax.tick_params(axis=\"x\", colors=\"white\")\n",
    "    ticks = figure.get_axes()[-1].get_xticks()\n",
    "    figure.get_axes()[-1].set(\n",
    "        xticklabels=(ticks / 1000).astype(int).astype(str),\n",
    "        xlabel=\"Kbp of telomeric tract\",\n",
    "    )\n",
    "    return figure"
   ]
  },
  {
   "cell_type": "code",
   "execution_count": null,
   "metadata": {},
   "outputs": [
    {
     "name": "stderr",
     "output_type": "stream",
     "text": [
      " 60%|█████▉    | 380/637 [00:08<00:05, 44.46it/s]"
     ]
    }
   ],
   "source": [
    "p_figure = plot_support(p_support, p_puller, p_chopper, ecx, chroms=P_CHROMS, is_q=False)\n",
    "p_figure.savefig(\"Figure SXA, support.png\", dpi=300, bbox_inches=\"tight\")"
   ]
  },
  {
   "cell_type": "code",
   "execution_count": 85,
   "metadata": {},
   "outputs": [
    {
     "name": "stderr",
     "output_type": "stream",
     "text": [
      "100%|██████████| 541/541 [01:44<00:00,  5.19it/s]\n"
     ]
    },
    {
     "data": {
      "image/png": "[encoded data removed]",
      "text/plain": [
       "<Figure size 504x489.6 with 7 Axes>"
      ]
     },
     "metadata": {
      "needs_background": "light"
     },
     "output_type": "display_data"
    }
   ],
   "source": [
    "q_figure = plot_support(q_support, q_puller, q_chopper, ecx, chroms=Q_CHROMS, is_q=True, factor=.01)\n",
    "q_figure.savefig(\"Figure SXB, support.png\", dpi=300, bbox_inches=\"tight\")"
   ]
  },
  {
   "cell_type": "code",
   "execution_count": 86,
   "metadata": {},
   "outputs": [
    {
     "name": "stdout",
     "output_type": "stream",
     "text": [
      "p arm: 0.89\n",
      "q arm: 0.95\n"
     ]
    }
   ],
   "source": [
    "def get_numerical_support(support, chopper):\n",
    "    numerical_support = pd.DataFrame(\n",
    "        data=[\n",
    "            [len(positions), chopper[name][2], len(positions)/chopper[name][2]]\n",
    "            for name, positions in support.items()\n",
    "        ],\n",
    "        columns=[\"supported\", \"length\", \"fraction\"],\n",
    "    )\n",
    "    return numerical_support\n",
    "\n",
    "print(\"p arm: {:.2f}\".format(get_numerical_support(p_support, p_chopper)[\"fraction\"].median()))\n",
    "print(\"q arm: {:.2f}\".format(get_numerical_support(q_support, q_chopper)[\"fraction\"].median()))"
   ]
  }
 ],
 "metadata": {
  "kernelspec": {
   "display_name": "Python 3",
   "language": "python",
   "name": "python3"
  },
  "language_info": {
   "codemirror_mode": {
    "name": "ipython",
    "version": 3
   },
   "file_extension": ".py",
   "mimetype": "text/x-python",
   "name": "python",
   "nbconvert_exporter": "python",
   "pygments_lexer": "ipython3",
   "version": "3.7.1"
  }
 },
 "nbformat": 4,
 "nbformat_minor": 2
}
